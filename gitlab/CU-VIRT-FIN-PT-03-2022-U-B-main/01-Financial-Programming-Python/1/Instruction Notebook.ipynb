{
 "cells": [
  {
   "cell_type": "markdown",
   "id": "practical-beverage",
   "metadata": {},
   "source": [
    "# Variables"
   ]
  },
  {
   "cell_type": "code",
   "execution_count": 1,
   "id": "junior-toilet",
   "metadata": {},
   "outputs": [
    {
     "name": "stdout",
     "output_type": "stream",
     "text": [
      "Frankfurter Finance\n",
      "23\n",
      "65.4\n",
      "True\n"
     ]
    }
   ],
   "source": [
    "# Create variables\n",
    "company_name = \"Frankfurter Finance\"\n",
    "years_in_business = 23\n",
    "hourly_wage = 65.40\n",
    "expert_status = True\n",
    "\n",
    "# Print the variables\n",
    "print(company_name)\n",
    "print(years_in_business)\n",
    "print(hourly_wage)\n",
    "print(expert_status)"
   ]
  },
  {
   "cell_type": "code",
   "execution_count": 40,
   "id": "motivated-sunglasses",
   "metadata": {},
   "outputs": [
    {
     "data": {
      "text/plain": [
       "'Frankfurter Finance'"
      ]
     },
     "execution_count": 40,
     "metadata": {},
     "output_type": "execute_result"
    }
   ],
   "source": [
    "company_name"
   ]
  },
  {
   "cell_type": "code",
   "execution_count": 2,
   "id": "irish-determination",
   "metadata": {},
   "outputs": [
    {
     "name": "stdout",
     "output_type": "stream",
     "text": [
      "The data type of variable title is <class 'str'>\n",
      "The data type of variable years is <class 'int'>\n",
      "The data type of variable hourly_wage is <class 'float'>\n",
      "The data type of variable expert_status is <class 'bool'>\n"
     ]
    }
   ],
   "source": [
    "# Prints the data type of each declared variable\n",
    "print(\"The data type of variable title is\", type(company_name))\n",
    "print(\"The data type of variable years is\", type(years_in_business))\n",
    "print(\"The data type of variable hourly_wage is\", type(hourly_wage))\n",
    "print(\"The data type of variable expert_status is\", type(expert_status))"
   ]
  },
  {
   "cell_type": "code",
   "execution_count": 44,
   "id": "separate-plane",
   "metadata": {},
   "outputs": [
    {
     "name": "stdout",
     "output_type": "stream",
     "text": [
      "The total kilometers driven was: 29.825808000000002\n"
     ]
    }
   ],
   "source": [
    "# Using variable names in calculations\n",
    "total_miles = 257\n",
    "gallons_gas = 7.2\n",
    "miles_per_gallon = total_miles / gallons_gas\n",
    "# print(miles_per_gallon)\n",
    "\n",
    "# Updating variables using assignment\n",
    "miles = 48\n",
    "kilometers = 0.621371 * miles\n",
    "\n",
    "total_miles = 10\n",
    "# Substituting/formatting variable\n",
    "message = f\"The total kilometers driven was: {kilometers}\"\n",
    "print(message)"
   ]
  },
  {
   "cell_type": "code",
   "execution_count": 45,
   "id": "israeli-navigator",
   "metadata": {},
   "outputs": [
    {
     "name": "stdout",
     "output_type": "stream",
     "text": [
      "26.740000000000002\n"
     ]
    }
   ],
   "source": [
    "# Two number values will be added\n",
    "transaction_1 = 11.75\n",
    "transaction_2 = 14.99\n",
    "\n",
    "total_transaction_cost = transaction_1 + transaction_2\n",
    "print(total_transaction_cost)"
   ]
  },
  {
   "cell_type": "code",
   "execution_count": 51,
   "id": "unknown-cannon",
   "metadata": {},
   "outputs": [
    {
     "name": "stdout",
     "output_type": "stream",
     "text": [
      "Michelle Jones\n",
      "My name is Michelle Jones.\n"
     ]
    }
   ],
   "source": [
    "# Two string values will be concatenated\n",
    "first_name = \"Michelle \"\n",
    "last_name = \"Jones\"\n",
    "\n",
    "full_name = first_name + last_name\n",
    "print(full_name)\n",
    "print(\"My name is \" + first_name                   + last_name + \".\")"
   ]
  },
  {
   "cell_type": "code",
   "execution_count": 6,
   "id": "personalized-fault",
   "metadata": {},
   "outputs": [],
   "source": [
    "# Variable naming conventions\n",
    "# Bad Example\n",
    "mpg = 24\n",
    "\n",
    "# Better Example\n",
    "miles_per_gallon = 24"
   ]
  },
  {
   "cell_type": "markdown",
   "id": "ceramic-bathroom",
   "metadata": {},
   "source": [
    "## Percent"
   ]
  },
  {
   "cell_type": "code",
   "execution_count": 54,
   "id": "dirty-expression",
   "metadata": {},
   "outputs": [
    {
     "name": "stdout",
     "output_type": "stream",
     "text": [
      "Apple's original stock price was $198.87.\n",
      "Apple's current stock price is $254.32.\n",
      "Apple's stock price increased by 28%.\n"
     ]
    }
   ],
   "source": [
    "# Percent Increase Activity\n",
    "\n",
    "# Increase = Current Price - Original Price\n",
    "# Percent Increase = Increase / Original x 100\n",
    "\n",
    "# Create float variable for original_price\n",
    "original_price = 198.87\n",
    "\n",
    "# Create float variable for current_price\n",
    "current_price = 254.32\n",
    "\n",
    "# Calculate difference between current_price and original_price\n",
    "increase = current_price - original_price\n",
    "\n",
    "# Calculate percent increase\n",
    "percent_increase = (increase / original_price) * 100\n",
    "\n",
    "# Print original_price\n",
    "print(f\"Apple's original stock price was ${original_price}.\")\n",
    "\n",
    "# Print current_price\n",
    "print(f\"Apple's current stock price is ${current_price}.\")\n",
    "\n",
    "# Print percent increase\n",
    "print(f\"Apple's stock price increased by {percent_increase:.0f}%.\")"
   ]
  },
  {
   "cell_type": "markdown",
   "id": "covered-nurse",
   "metadata": {},
   "source": [
    "## Lists"
   ]
  },
  {
   "cell_type": "code",
   "execution_count": 8,
   "id": "legendary-gross",
   "metadata": {},
   "outputs": [],
   "source": [
    "# A list in Python is a collection of ordered elements or values, separated by commas, \n",
    "# with an index of \"zero\" for the first element.\n",
    "\n",
    "# Index: 0 = \"green\", 1 = \"blue\", 2 = \"red\", 3 = \"purple\"\n",
    "color_hats = [\"green\", \"blue\", \"red\", \"purple\"]\n",
    "\n",
    "\n",
    "# Lists commonly hold values of the same data type or different data types.\n",
    "# Lists can even hold other lists!\n",
    "\n",
    "my_favorite_things = [\"Chocolate\", 9, [\"beach\", \"mountains\"], \"breakfast_tacos\"]"
   ]
  },
  {
   "cell_type": "code",
   "execution_count": 56,
   "id": "collected-avatar",
   "metadata": {},
   "outputs": [
    {
     "name": "stdout",
     "output_type": "stream",
     "text": [
      "We are a diverse group and come from everywhere...\n",
      "['San Francisco, CA', 'Conway, AR', 'Orlando, FL', 'Buffalo, NY', 'Chicago, IL', 'Edison, NJ', 'Avondale, PA']\n",
      "---------------\n"
     ]
    }
   ],
   "source": [
    "# Create a list of places where our class lives from slack responses.\n",
    "print(\"We are a diverse group and come from everywhere...\")\n",
    "where_we_live = [\n",
    "    \"San Francisco, CA\",\n",
    "    \"Conway, AR\",\n",
    "    \"Orlando, FL\",\n",
    "    \"Buffalo, NY\",\n",
    "    \"Chicago, IL\",\n",
    "    \"Edison, NJ\",\n",
    "    \"Avondale, PA\",\n",
    "]\n",
    "print(where_we_live)\n",
    "print(\"---------------\")"
   ]
  },
  {
   "cell_type": "code",
   "execution_count": 59,
   "id": "ceramic-worth",
   "metadata": {},
   "outputs": [
    {
     "data": {
      "text/plain": [
       "'Orlando, FL'"
      ]
     },
     "execution_count": 59,
     "metadata": {},
     "output_type": "execute_result"
    }
   ],
   "source": [
    "where_we_live[2]"
   ]
  },
  {
   "cell_type": "code",
   "execution_count": 60,
   "id": "joined-coupon",
   "metadata": {},
   "outputs": [
    {
     "name": "stdout",
     "output_type": "stream",
     "text": [
      "My hometown is at index...\n",
      "Orlando, FL\n",
      "My cities index is at...\n",
      "['San Francisco, CA', 'Conway, AR', 'Orlando, FL', 'Buffalo, NY', 'Chicago, IL', 'Edison, NJ', 'Avondale, PA']\n",
      "1\n",
      "---------------\n"
     ]
    }
   ],
   "source": [
    "# Students should use the index of their hometown.\n",
    "print(\"My hometown is at index...\")\n",
    "print(where_we_live[2])\n",
    "\n",
    "# Students can check their work with the index method\n",
    "print(\"My cities index is at...\")\n",
    "print(where_we_live)\n",
    "print(where_we_live.index(\"Conway, AR\"))\n",
    "print(\"---------------\")"
   ]
  },
  {
   "cell_type": "code",
   "execution_count": 65,
   "id": "dirty-breakfast",
   "metadata": {},
   "outputs": [
    {
     "name": "stdout",
     "output_type": "stream",
     "text": [
      "We can access a portion of the list with a slice...\n",
      "['Orlando, FL', 'Buffalo, NY', 'Chicago, IL', 'Edison, NJ']\n",
      "---------------\n"
     ]
    }
   ],
   "source": [
    "# Set elements from index 2 to index 5 equal to some_of_our_places variable and print\n",
    "print(\"We can access a portion of the list with a slice...\")\n",
    "some_of_our_places = where_we_live[2:-1]\n",
    "print(some_of_our_places)\n",
    "print(\"---------------\")"
   ]
  },
  {
   "cell_type": "code",
   "execution_count": 62,
   "id": "hungarian-reconstruction",
   "metadata": {},
   "outputs": [
    {
     "name": "stdout",
     "output_type": "stream",
     "text": [
      "Printing every other city\n",
      "['San Francisco, CA', 'Buffalo, NY', 'Avondale, PA']\n"
     ]
    }
   ],
   "source": [
    "# Print every other element\n",
    "print(\"Printing every other city\")\n",
    "every_other_city = where_we_live[::3]\n",
    "print(every_other_city)"
   ]
  },
  {
   "cell_type": "code",
   "execution_count": 13,
   "id": "cross-charm",
   "metadata": {},
   "outputs": [
    {
     "name": "stdout",
     "output_type": "stream",
     "text": [
      "The last city is...\n",
      "Avondale, PA\n"
     ]
    }
   ],
   "source": [
    "# Print the last element of the list\n",
    "print(\"The last city is...\")\n",
    "last_city = where_we_live[-1]\n",
    "print(last_city)"
   ]
  },
  {
   "cell_type": "code",
   "execution_count": 66,
   "id": "informational-craft",
   "metadata": {},
   "outputs": [
    {
     "name": "stdout",
     "output_type": "stream",
     "text": [
      "Change the first element in the list...\n",
      "['Las Vegas, NV', 'Conway, AR', 'Orlando, FL', 'Buffalo, NY', 'Chicago, IL', 'Edison, NJ', 'Avondale, PA']\n"
     ]
    }
   ],
   "source": [
    "# Change a specified element within the list at the given index\n",
    "print(\"Change the first element in the list...\")\n",
    "where_we_live[0] = \"Las Vegas, NV\"\n",
    "print(where_we_live)"
   ]
  },
  {
   "cell_type": "code",
   "execution_count": 67,
   "id": "analyzed-parent",
   "metadata": {},
   "outputs": [
    {
     "name": "stdout",
     "output_type": "stream",
     "text": [
      "Adding a new place to the end of the list...\n",
      "['Las Vegas, NV', 'Conway, AR', 'Orlando, FL', 'Buffalo, NY', 'Chicago, IL', 'Edison, NJ', 'Avondale, PA', 'Honolulu, HI']\n"
     ]
    }
   ],
   "source": [
    "# Add an element to the end of the list\n",
    "print(\"Adding a new place to the end of the list...\")\n",
    "where_we_live.append(\"Honolulu, HI\")\n",
    "print(where_we_live)"
   ]
  },
  {
   "cell_type": "code",
   "execution_count": 68,
   "id": "major-negative",
   "metadata": {},
   "outputs": [
    {
     "name": "stdout",
     "output_type": "stream",
     "text": [
      "Removing a new place to the end of the list...\n",
      "['Las Vegas, NV', 'Conway, AR', 'Orlando, FL', 'Buffalo, NY', 'Chicago, IL', 'Edison, NJ', 'Avondale, PA']\n"
     ]
    }
   ],
   "source": [
    "# Add an element to the end of the list\n",
    "print(\"Removing a new place to the end of the list...\")\n",
    "where_we_live.remove(\"Honolulu, HI\")\n",
    "print(where_we_live)"
   ]
  },
  {
   "cell_type": "code",
   "execution_count": 69,
   "id": "decreased-garlic",
   "metadata": {},
   "outputs": [
    {
     "name": "stdout",
     "output_type": "stream",
     "text": [
      "Removing 'Orlando, FL' based off of its index\n",
      "['Las Vegas, NV', 'Conway, AR', 'Buffalo, NY', 'Chicago, IL', 'Edison, NJ', 'Avondale, PA']\n",
      "---------------\n"
     ]
    }
   ],
   "source": [
    "# Remove an element from the list based on the given index\n",
    "print(\"Removing 'Orlando, FL' based off of its index\")\n",
    "florida_index = where_we_live.index(\"Orlando, FL\")\n",
    "where_we_live.pop(florida_index)\n",
    "print(where_we_live)\n",
    "print(\"---------------\")"
   ]
  },
  {
   "cell_type": "code",
   "execution_count": 70,
   "id": "primary-resource",
   "metadata": {},
   "outputs": [
    {
     "name": "stdout",
     "output_type": "stream",
     "text": [
      "Calculating the number of places...\n",
      "6\n",
      "---------------\n"
     ]
    }
   ],
   "source": [
    "# Calculate the number of elements within the list\n",
    "print(\"Calculating the number of places...\")\n",
    "print(len(where_we_live))\n",
    "print(\"---------------\")"
   ]
  },
  {
   "cell_type": "code",
   "execution_count": 72,
   "id": "dangerous-venice",
   "metadata": {},
   "outputs": [
    {
     "data": {
      "text/plain": [
       "'Conway, AR'"
      ]
     },
     "execution_count": 72,
     "metadata": {},
     "output_type": "execute_result"
    }
   ],
   "source": [
    "where_we_live.pop(1)"
   ]
  },
  {
   "cell_type": "code",
   "execution_count": 73,
   "id": "daily-relationship",
   "metadata": {},
   "outputs": [
    {
     "data": {
      "text/plain": [
       "['Las Vegas, NV', 'Buffalo, NY', 'Chicago, IL', 'Edison, NJ', 'Avondale, PA']"
      ]
     },
     "execution_count": 73,
     "metadata": {},
     "output_type": "execute_result"
    }
   ],
   "source": [
    "where_we_live"
   ]
  },
  {
   "cell_type": "markdown",
   "id": "black-conviction",
   "metadata": {},
   "source": [
    "## List Manipulation"
   ]
  },
  {
   "cell_type": "code",
   "execution_count": 75,
   "id": "smaller-border",
   "metadata": {},
   "outputs": [
    {
     "name": "stdout",
     "output_type": "stream",
     "text": [
      "['AMZN', 'CSCO', 'FB', 'GOOG', 'INTC', 'MSFT', 'SQ', 'TWTR', 'WORK']\n"
     ]
    }
   ],
   "source": [
    "# Manipulating Lists\n",
    "\n",
    "stock_tickers = [\"AMZN\", \"CSCO\", \"FB\", \"GOOG\", \"INTC\", \"MSFT\", \"SQ\", \"TWTR\", \"WRK\"]\n",
    "\n",
    "\n",
    "# Update the ticker 'WRK' to 'WORK'\n",
    "stock_tickers[8] = \"WORK\"\n",
    "# Alternatively, you can use -1 to select the index of the last item in the list.\n",
    "# stock_tickers[-1] = 'WORK'\n",
    "\n",
    "print(stock_tickers)"
   ]
  },
  {
   "cell_type": "code",
   "execution_count": 76,
   "id": "alone-confidentiality",
   "metadata": {},
   "outputs": [
    {
     "name": "stdout",
     "output_type": "stream",
     "text": [
      "['AMZN', 'CSCO', 'FB', 'GOOG', 'INTC', 'MSFT', 'SQ', 'TWTR', 'WORK', 'ZM']\n"
     ]
    }
   ],
   "source": [
    "# Add the ticker 'ZM' to the end of the stock_tickers list\n",
    "stock_tickers.append(\"ZM\")\n",
    "print(stock_tickers)"
   ]
  },
  {
   "cell_type": "code",
   "execution_count": 77,
   "id": "intimate-milan",
   "metadata": {},
   "outputs": [
    {
     "name": "stdout",
     "output_type": "stream",
     "text": [
      "['AAPL', 'AMZN', 'CSCO', 'FB', 'GOOG', 'INTC', 'MSFT', 'SQ', 'TWTR', 'WORK', 'ZM']\n",
      "['AAPL', 'AMZN', 'CSCO', 'DELL', 'FB', 'GOOG', 'INTC', 'MSFT', 'SQ', 'TWTR', 'WORK', 'ZM']\n"
     ]
    }
   ],
   "source": [
    "# Add the ticker 'AAPL' to the beginning of the stock_tickers list.\n",
    "# Add the ticker 'DELL' to it appears between 'CSCO' and 'FB'.\n",
    "stock_tickers.insert(0, \"AAPL\")\n",
    "print(stock_tickers)\n",
    "stock_tickers.insert(3, \"DELL\")\n",
    "print(stock_tickers)"
   ]
  },
  {
   "cell_type": "code",
   "execution_count": 24,
   "id": "operational-spectrum",
   "metadata": {},
   "outputs": [
    {
     "name": "stdout",
     "output_type": "stream",
     "text": [
      "['AAPL', 'AMZN', 'CSCO', 'DELL', 'FB', 'GOOG', 'MSFT', 'SQ', 'TWTR', 'WORK', 'ZM']\n"
     ]
    }
   ],
   "source": [
    "# Remove the ticker 'INTC' from the stock_tickers list\n",
    "stock_tickers.remove(\"INTC\")\n",
    "print(stock_tickers)"
   ]
  },
  {
   "cell_type": "code",
   "execution_count": 25,
   "id": "proprietary-afternoon",
   "metadata": {},
   "outputs": [
    {
     "name": "stdout",
     "output_type": "stream",
     "text": [
      "['AAPL', 'AMZN', 'CSCO', 'DELL', 'FB', 'GOOG', 'MSFT', 'TWTR', 'WORK', 'ZM']\n"
     ]
    }
   ],
   "source": [
    "# Remove the ticker 'SQ' from the list using the pop() method\n",
    "stock_tickers.pop(7)\n",
    "print(stock_tickers)"
   ]
  },
  {
   "cell_type": "code",
   "execution_count": 26,
   "id": "legendary-expression",
   "metadata": {},
   "outputs": [
    {
     "name": "stdout",
     "output_type": "stream",
     "text": [
      "['CSCO', 'DELL', 'FB', 'GOOG']\n"
     ]
    }
   ],
   "source": [
    "# Slice a section of the list that inclues the tickers 'CSCO', 'DELL', 'FB', and 'GOOG'.\n",
    "# Set this equal to a variable called stock_tickers_slice.\n",
    "# Print the new variable to confirm your actions.\n",
    "stock_tickers_slice = stock_tickers[2:6]\n",
    "print(stock_tickers_slice)"
   ]
  },
  {
   "cell_type": "markdown",
   "id": "musical-peace",
   "metadata": {},
   "source": [
    "## Dictionaries"
   ]
  },
  {
   "cell_type": "code",
   "execution_count": 79,
   "id": "banner-machinery",
   "metadata": {},
   "outputs": [
    {
     "name": "stdout",
     "output_type": "stream",
     "text": [
      "\n",
      "Dictionary: {'january': 'Karen', 'february': 'Harold', 'march': 'Sam'}\n",
      "\n"
     ]
    }
   ],
   "source": [
    "# Initialize a dictionary containing top traders for each month in 2019\n",
    "top_traders_2019 = {\"january\": \"Karen\", \"february\": \"Harold\", \"march\": \"Sam\"}\n",
    "\n",
    "print()\n",
    "print(f\"Dictionary: {top_traders_2019}\")\n",
    "print()"
   ]
  },
  {
   "cell_type": "code",
   "execution_count": 82,
   "id": "antique-banking",
   "metadata": {},
   "outputs": [
    {
     "ename": "KeyError",
     "evalue": "'april'",
     "output_type": "error",
     "traceback": [
      "\u001b[1;31m---------------------------------------------------------------------------\u001b[0m",
      "\u001b[1;31mKeyError\u001b[0m                                  Traceback (most recent call last)",
      "\u001b[1;32m<ipython-input-82-0c0bbb138ce9>\u001b[0m in \u001b[0;36m<module>\u001b[1;34m\u001b[0m\n\u001b[1;32m----> 1\u001b[1;33m \u001b[0mtop_traders_2019\u001b[0m\u001b[1;33m[\u001b[0m\u001b[1;34m'april'\u001b[0m\u001b[1;33m]\u001b[0m\u001b[1;33m\u001b[0m\u001b[1;33m\u001b[0m\u001b[0m\n\u001b[0m",
      "\u001b[1;31mKeyError\u001b[0m: 'april'"
     ]
    }
   ],
   "source": [
    "top_traders_2019['april']"
   ]
  },
  {
   "cell_type": "code",
   "execution_count": 83,
   "id": "auburn-detail",
   "metadata": {},
   "outputs": [],
   "source": [
    "# Initialize a dictionary\n",
    "trading_pnl = {\n",
    "    \"title\": \"Trading Log\",\n",
    "    \"03-18-2019\": -224,\n",
    "    \"03-19-2019\": 352,\n",
    "    \"03-20-2019\": 252,\n",
    "    \"03-21-2019\": 354,\n",
    "    \"03-22-2019\": -544,\n",
    "    \"03-23-2019\": -650,\n",
    "    \"03-24-2019\": 56,\n",
    "    \"03-25-2019\": 123,\n",
    "    \"03-26-2019\": -43,\n",
    "    \"03-27-2019\": 254,\n",
    "    \"03-28-2019\": 325,\n",
    "    \"03-29-2019\": -123,\n",
    "    \"03-30-2019\": 47,\n",
    "    \"03-31-2019\": 321,\n",
    "    \"04-01-2019\": 123,\n",
    "    \"04-02-2019\": 133,\n",
    "    \"04-03-2019\": -151,\n",
    "    \"04-04-2019\": 613,\n",
    "    \"04-05-2019\": 232,\n",
    "    \"04-06-2019\": -311,\n",
    "}"
   ]
  },
  {
   "cell_type": "code",
   "execution_count": 84,
   "id": "temporal-passage",
   "metadata": {},
   "outputs": [
    {
     "name": "stdout",
     "output_type": "stream",
     "text": [
      "\n",
      "Dictionary: {'title': 'Trading Log', '03-18-2019': -224, '03-19-2019': 352, '03-20-2019': 252, '03-21-2019': 354, '03-22-2019': -544, '03-23-2019': -650, '03-24-2019': 56, '03-25-2019': 123, '03-26-2019': -43, '03-27-2019': 254, '03-28-2019': 325, '03-29-2019': -123, '03-30-2019': 47, '03-31-2019': 321, '04-01-2019': 123, '04-02-2019': 133, '04-03-2019': -151, '04-04-2019': 613, '04-05-2019': 232, '04-06-2019': -311}\n",
      "\n"
     ]
    }
   ],
   "source": [
    "# Print out dictionary, initial print() to serve as spacing between command line input\n",
    "print()\n",
    "print(f\"Dictionary: {trading_pnl}\")\n",
    "print()"
   ]
  },
  {
   "cell_type": "code",
   "execution_count": 30,
   "id": "genetic-momentum",
   "metadata": {},
   "outputs": [
    {
     "name": "stdout",
     "output_type": "stream",
     "text": [
      "03-31-2019: 321\n",
      "\n"
     ]
    }
   ],
   "source": [
    "# Print out specific value of a key\n",
    "print(f\"03-31-2019: {trading_pnl['03-31-2019']}\")\n",
    "print()"
   ]
  },
  {
   "cell_type": "code",
   "execution_count": 31,
   "id": "utility-broadcast",
   "metadata": {},
   "outputs": [
    {
     "name": "stdout",
     "output_type": "stream",
     "text": [
      "{'title': 'Trading Log', '03-18-2019': -224, '03-19-2019': 352, '03-20-2019': 252, '03-21-2019': 354, '03-22-2019': -544, '03-23-2019': -650, '03-24-2019': 56, '03-25-2019': 123, '03-26-2019': -43, '03-27-2019': 254, '03-28-2019': 325, '03-29-2019': -123, '03-30-2019': 47, '03-31-2019': 321, '04-01-2019': 123, '04-02-2019': 133, '04-03-2019': -151, '04-04-2019': 613, '04-05-2019': 232, '04-06-2019': -311, '04-07-2019': 413}\n",
      "\n"
     ]
    }
   ],
   "source": [
    "# Add a new key-value pair\n",
    "trading_pnl[\"04-07-2019\"] = 413\n",
    "print(trading_pnl)\n",
    "print()"
   ]
  },
  {
   "cell_type": "code",
   "execution_count": 85,
   "id": "documented-distance",
   "metadata": {},
   "outputs": [
    {
     "name": "stdout",
     "output_type": "stream",
     "text": [
      "{'title': 'Trading Log', '03-18-2019': -224, '03-19-2019': 352, '03-20-2019': 252, '03-21-2019': 354, '03-22-2019': -544, '03-23-2019': -650, '03-24-2019': 56, '03-25-2019': 123, '03-26-2019': -43, '03-27-2019': 254, '03-28-2019': 325, '03-29-2019': -123, '03-30-2019': 47, '03-31-2019': 321, '04-01-2019': 123, '04-02-2019': 133, '04-03-2019': -151, '04-04-2019': 613, '04-05-2019': 232, '04-06-2019': -311, '04-07-2019': [542, 100]}\n",
      "\n"
     ]
    }
   ],
   "source": [
    "# Modify a key value\n",
    "trading_pnl[\"04-07-2019\"] = [542, 100]\n",
    "print(trading_pnl)\n",
    "print()"
   ]
  },
  {
   "cell_type": "code",
   "execution_count": 33,
   "id": "natural-television",
   "metadata": {},
   "outputs": [
    {
     "name": "stdout",
     "output_type": "stream",
     "text": [
      "-123\n",
      "\n"
     ]
    }
   ],
   "source": [
    "# Access a the value of a key using the get() method\n",
    "print(trading_pnl.get(\"03-29-2019\"))\n",
    "print()"
   ]
  },
  {
   "cell_type": "code",
   "execution_count": 34,
   "id": "confidential-albert",
   "metadata": {},
   "outputs": [
    {
     "name": "stdout",
     "output_type": "stream",
     "text": [
      "{'title': 'Trading Log', '03-18-2019': -224, '03-19-2019': 352, '03-20-2019': 252, '03-21-2019': 354, '03-22-2019': -544, '03-23-2019': -650, '03-24-2019': 56, '03-25-2019': 123, '03-26-2019': -43, '03-27-2019': 254, '03-28-2019': 325, '03-29-2019': -123, '03-30-2019': 47, '03-31-2019': 321, '04-01-2019': 123, '04-02-2019': 133, '04-03-2019': -151, '04-04-2019': 613, '04-05-2019': 232, '04-06-2019': -311}\n",
      "\n"
     ]
    }
   ],
   "source": [
    "# Delete a key-value pair\n",
    "del trading_pnl[\"04-07-2019\"]\n",
    "print(trading_pnl)\n",
    "print()"
   ]
  },
  {
   "cell_type": "markdown",
   "id": "important-scholarship",
   "metadata": {},
   "source": [
    "## Working with Dictionaries"
   ]
  },
  {
   "cell_type": "code",
   "execution_count": 35,
   "id": "opposite-flower",
   "metadata": {},
   "outputs": [],
   "source": [
    "# Working with Dictionaries\n",
    "\n",
    "# Following is a Python Dictionary containing student loan information.\n",
    "# Notice all keys are defined as strings, but the values are declared in a variety of data types.\n",
    "\n",
    "student_loan_information_aj = {\n",
    "    \"student_name\": \"Amy Johnson\",\n",
    "    \"university\": \"Yale\",\n",
    "    \"academic_year\": \"2015_2016\",\n",
    "    \"loan_amount\": 45000,\n",
    "    \"duration_years\": 10,\n",
    "    \"payments_started\": False,\n",
    "}"
   ]
  },
  {
   "cell_type": "code",
   "execution_count": 36,
   "id": "fatty-aluminum",
   "metadata": {},
   "outputs": [
    {
     "name": "stdout",
     "output_type": "stream",
     "text": [
      "The original student loan profile {'student_name': 'Amy Johnson', 'university': 'Yale', 'academic_year': '2015_2016', 'loan_amount': 45000, 'duration_years': 10, 'payments_started': False}\n"
     ]
    }
   ],
   "source": [
    "# Using the student_loan_information_aj dictionary provided, complete the following actions:\n",
    "\n",
    "# Print the original 'student_loan_information_aj' dictionary\n",
    "print(\"The original student loan profile\", student_loan_information_aj)"
   ]
  },
  {
   "cell_type": "code",
   "execution_count": 37,
   "id": "better-judge",
   "metadata": {},
   "outputs": [
    {
     "name": "stdout",
     "output_type": "stream",
     "text": [
      "The amended student loan profile: {'student_name': 'Amy Johnston', 'university': 'Yale', 'academic_year': '2015_2016', 'loan_amount': 45000, 'duration_years': 10, 'payments_started': False}\n"
     ]
    }
   ],
   "source": [
    "# Our student's name was spelled incorrectly.\n",
    "# Update the value of the `student_name' key to `Amy Johnston`.\n",
    "# Be sure to print the dictionary so that you know your changes are working.\n",
    "student_loan_information_aj[\"student_name\"] = \"Amy Johnston\"\n",
    "print(\"The amended student loan profile:\", student_loan_information_aj)"
   ]
  },
  {
   "cell_type": "code",
   "execution_count": 38,
   "id": "accessory-dictionary",
   "metadata": {},
   "outputs": [
    {
     "name": "stdout",
     "output_type": "stream",
     "text": [
      "The amended student loan profile: {'student_name': 'Amy Johnston', 'university': 'Yale', 'academic_year': '2015_2016', 'loan_amount': 45000, 'duration_years': 10, 'payments_started': False, 'interest_rate': 0.035}\n"
     ]
    }
   ],
   "source": [
    "# Every loan should have an interest rate associated with its information.\n",
    "# Add a key called 'interest_rate' and assign it a value of 3.5 percent (or 0.035).\n",
    "# Print the dictionary so that you know your changes are working.\n",
    "student_loan_information_aj[\"interest_rate\"] = 0.035\n",
    "print(\"The amended student loan profile:\", student_loan_information_aj)"
   ]
  },
  {
   "cell_type": "code",
   "execution_count": 39,
   "id": "consistent-vegetation",
   "metadata": {},
   "outputs": [
    {
     "name": "stdout",
     "output_type": "stream",
     "text": [
      "The amended student loan profile: {'student_name': 'Amy Johnston', 'university': 'Yale', 'academic_year': '2015_2016', 'duration_years': 10, 'payments_started': False, 'interest_rate': 0.035, 'loan_amount': 45000}\n"
     ]
    }
   ],
   "source": [
    "# Reviewing the information, it appears that the key for 'loan_amount' has been spelled incorrectly.\n",
    "# You will need to delete the existing key:value pair and add one with the correct spelling.\n",
    "# You can use the same amount of 45000.\n",
    "# Print the dictionary so that you know your changes are working.\n",
    "del student_loan_information_aj[\"loan_amount\"]\n",
    "student_loan_information_aj[\"loan_amount\"] = 45000\n",
    "print(f\"The amended student loan profile: {student_loan_information_aj}\")"
   ]
  },
  {
   "cell_type": "code",
   "execution_count": null,
   "id": "internal-local",
   "metadata": {},
   "outputs": [],
   "source": []
  }
 ],
 "metadata": {
  "kernelspec": {
   "display_name": "Python 3",
   "language": "python",
   "name": "python3"
  },
  "language_info": {
   "codemirror_mode": {
    "name": "ipython",
    "version": 3
   },
   "file_extension": ".py",
   "mimetype": "text/x-python",
   "name": "python",
   "nbconvert_exporter": "python",
   "pygments_lexer": "ipython3",
   "version": "3.7.9"
  }
 },
 "nbformat": 4,
 "nbformat_minor": 5
}
