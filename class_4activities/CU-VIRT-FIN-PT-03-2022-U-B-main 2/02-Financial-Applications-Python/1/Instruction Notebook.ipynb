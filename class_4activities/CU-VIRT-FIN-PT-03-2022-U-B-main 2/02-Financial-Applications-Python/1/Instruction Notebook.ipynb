{
 "cells": [
  {
   "cell_type": "markdown",
   "id": "laughing-moment",
   "metadata": {},
   "source": [
    "# Code Drills"
   ]
  },
  {
   "cell_type": "markdown",
   "id": "floating-heater",
   "metadata": {},
   "source": [
    "## Variables"
   ]
  },
  {
   "cell_type": "code",
   "execution_count": 1,
   "id": "smooth-instruction",
   "metadata": {},
   "outputs": [],
   "source": [
    "# Topic: Strings\n",
    "\n",
    "# Create a variable named `subject` with no value (None).\n",
    "subject = None\n",
    "\n",
    "# Assign a value of \"Programmers to the variable `subject`.\n",
    "subject = \"Programmers\"\n",
    "\n",
    "# Create a variable, `first_name`, and assign it a value of an empty string.\n",
    "first_name = \"\"\n",
    "\n",
    "# Assign a value of \"Ada\" to the variable `first_name`.\n",
    "first_name = \"Ada\"\n",
    "\n",
    "# Create a variable, `last_name`, and assign it a value of a string, \"Lovelace\".\n",
    "last_name = \"Lovelace\""
   ]
  },
  {
   "cell_type": "code",
   "execution_count": 2,
   "id": "referenced-fellow",
   "metadata": {},
   "outputs": [],
   "source": [
    "# Topic: Integers\n",
    "\n",
    "# Create a variable, `birth_year`, and assign it with an integer of 1815.\n",
    "birth_year = 1815\n",
    "\n",
    "# Create a variable, death_year, and assign it with an integer of 1852.\n",
    "death_year = 1852\n",
    "\n",
    "# Create a variable, age_at_passing, and assign it a value of death_year minus birth_year.\n",
    "age_at_passing = death_year - birth_year"
   ]
  },
  {
   "cell_type": "code",
   "execution_count": 3,
   "id": "sharing-quilt",
   "metadata": {},
   "outputs": [
    {
     "name": "stdout",
     "output_type": "stream",
     "text": [
      "First Name: Ada\n"
     ]
    }
   ],
   "source": [
    "# Topic: Print\n",
    "\n",
    "# Print: \"First Name: \" and `first_name`.\n",
    "print(f\"First Name: {first_name}\")"
   ]
  },
  {
   "cell_type": "code",
   "execution_count": 4,
   "id": "choice-renaissance",
   "metadata": {},
   "outputs": [
    {
     "name": "stdout",
     "output_type": "stream",
     "text": [
      "Last Name: Lovelace\n"
     ]
    }
   ],
   "source": [
    "# Print: \"Last Name: \" and `last_name`.\n",
    "print(f\"Last Name: {last_name}\")"
   ]
  },
  {
   "cell_type": "code",
   "execution_count": 5,
   "id": "composite-offset",
   "metadata": {},
   "outputs": [
    {
     "name": "stdout",
     "output_type": "stream",
     "text": [
      "Programmers: Ada Lovelace was born in 1815, and she lived to be 37 years old.\n"
     ]
    }
   ],
   "source": [
    "#Topic: Concat Values\n",
    "\n",
    "# Create and print a variable, `statement_one`, by assigning it a value of a string:\n",
    "# \"Programmers: Ada Lovelace was born in 1815, and she lived to be  37 years old.\"\n",
    "statement_one = f\"{subject}: {first_name} {last_name} was born in {birth_year}, and she lived to be {age_at_passing} years old.\"\n",
    "print(statement_one)"
   ]
  },
  {
   "cell_type": "markdown",
   "id": "unlikely-venezuela",
   "metadata": {},
   "source": [
    "## Lists"
   ]
  },
  {
   "cell_type": "code",
   "execution_count": 6,
   "id": "headed-western",
   "metadata": {},
   "outputs": [],
   "source": [
    "# Create a list, `list_1`,  with `0`, `1`, `2`, `3` as values.\n",
    "list_1 = [0, 1, 2, 3]\n",
    "\n",
    "# Create a list, `list_2` with `4`, `5`, `6`, `7` as values.\n",
    "list_2 = [4, 5, 6, 7]\n",
    "\n",
    "# Create a list, `list_3` with `8`, `9`, `10`, `11` as values.\n",
    "list_3 = [8, 9, 10, 11]"
   ]
  },
  {
   "cell_type": "code",
   "execution_count": 7,
   "id": "cooperative-cinema",
   "metadata": {},
   "outputs": [
    {
     "name": "stdout",
     "output_type": "stream",
     "text": [
      "2\n"
     ]
    }
   ],
   "source": [
    "# Print the 3rd index of `list_1`.\n",
    "print(list_1[2])"
   ]
  },
  {
   "cell_type": "code",
   "execution_count": 8,
   "id": "otherwise-gibraltar",
   "metadata": {},
   "outputs": [
    {
     "name": "stdout",
     "output_type": "stream",
     "text": [
      "4\n"
     ]
    }
   ],
   "source": [
    "# Print the 1st index of `list_2`.\n",
    "print(list_2[0])"
   ]
  },
  {
   "cell_type": "code",
   "execution_count": 9,
   "id": "aquatic-biodiversity",
   "metadata": {},
   "outputs": [
    {
     "name": "stdout",
     "output_type": "stream",
     "text": [
      "9\n"
     ]
    }
   ],
   "source": [
    "# Print the 2nd index of `list_3`.\n",
    "print(list_3[1])"
   ]
  },
  {
   "cell_type": "markdown",
   "id": "established-membrane",
   "metadata": {},
   "source": [
    "## Dictionaries (1)"
   ]
  },
  {
   "cell_type": "code",
   "execution_count": 10,
   "id": "major-gather",
   "metadata": {},
   "outputs": [
    {
     "name": "stdout",
     "output_type": "stream",
     "text": [
      "{'has_multiple_bridges': True, 'state': 'California', 'tallest_building': 'SalesForce Building', 'median_house_price': 1610000, 'notable_attractions': ['Alcatraz', 'Golden Gate Bridge', \"Fisherman's Wharf\"]}\n"
     ]
    }
   ],
   "source": [
    "san_francisco = {}\n",
    "\n",
    "san_francisco['has_multiple_bridges'] = True\n",
    "san_francisco['state'] = \"California\"\n",
    "san_francisco['tallest_building'] = \"SalesForce Building\"\n",
    "san_francisco['median_house_price'] = 1610000\n",
    "san_francisco['notable_attractions'] = [\"Alcatraz\", \"Golden Gate Bridge\", \"Fisherman's Wharf\"]\n",
    "\n",
    "# Print the manually modified `san_francisco` dictionary and confirm the contents match the commented out version.\n",
    "print(san_francisco)"
   ]
  },
  {
   "cell_type": "markdown",
   "id": "contained-juice",
   "metadata": {},
   "source": [
    "## Conditional Statements"
   ]
  },
  {
   "cell_type": "code",
   "execution_count": 11,
   "id": "congressional-subsection",
   "metadata": {},
   "outputs": [],
   "source": [
    "# Declare a variable budget and assign it a value of 5000.\n",
    "budget = 5000\n",
    "\n",
    "# Declare a variable rent_cost and assign it a value of 1500.\n",
    "rent_cost = 1500\n",
    "\n",
    "# Declare a variable utilities_cost and assign it a value of 150.\n",
    "utilities_cost = 150\n",
    "\n",
    "# Declare a variable food_cost and assign it a value of 250.\n",
    "food_cost = 250\n",
    "\n",
    "# Declare a variable transportation_cost and assign it a value of 350.\n",
    "transportation_cost = 350\n",
    "\n",
    "# Declare a variable computer_cost and assign it a value of 2000.\n",
    "computer_cost = 2000\n",
    "\n",
    "# Declare a variable called total_cost that takes the sum of all costs above (excluding budget).\n",
    "total_cost = rent_cost + utilities_cost + food_cost + transportation_cost + computer_cost"
   ]
  },
  {
   "cell_type": "code",
   "execution_count": 12,
   "id": "bizarre-sleep",
   "metadata": {},
   "outputs": [
    {
     "name": "stdout",
     "output_type": "stream",
     "text": [
      "You're total cost is 4250\n"
     ]
    }
   ],
   "source": [
    "# Write an if statement that checks whether the sum of all our costs is within the budget.\n",
    "# If so, print \"You're total cost is \" concatenated with the `total_cost` variable.\n",
    "# Else, print \"You're over budget by \" concatenated with the difference between `budget` and `total_cost`.\n",
    "if total_cost < budget:\n",
    "    print(f\"You're total cost is {total_cost}\")\n",
    "else:\n",
    "    print(f\"You're over budget by {total_cost} - {budget}\")"
   ]
  },
  {
   "cell_type": "code",
   "execution_count": 13,
   "id": "tribal-shopping",
   "metadata": {},
   "outputs": [
    {
     "name": "stdout",
     "output_type": "stream",
     "text": [
      "The rent is too darn high!\n"
     ]
    }
   ],
   "source": [
    "# Write an if statement that checks whether the rent_cost is larger than the sum of the `utilities_cost`, `food_cost`,\n",
    "# and `transportation_cost`. If so, print a string that says \"The rent is too darn high!\".\n",
    "# Else, print a string that says \"Ahhh just right!\"\n",
    "if rent_cost > (utilities_cost + food_cost + transportation_cost):\n",
    "    print(\"The rent is too darn high!\")\n",
    "else:\n",
    "    print(\"Ahh just right!\")"
   ]
  },
  {
   "cell_type": "markdown",
   "id": "cloudy-basis",
   "metadata": {},
   "source": [
    "## Dictionaries (2)"
   ]
  },
  {
   "cell_type": "code",
   "execution_count": 14,
   "id": "assisted-programming",
   "metadata": {},
   "outputs": [
    {
     "name": "stdout",
     "output_type": "stream",
     "text": [
      "True\n"
     ]
    }
   ],
   "source": [
    "# Use the `from` keyword to import the `shows` dictionary from the `show_data.py` file\n",
    "from show_data import shows\n",
    "\n",
    "\n",
    "# QUESTION 1: Is the Walking Dead still running?\n",
    "print(shows['genre']['drama']['the_walking_dead']['still_running'])"
   ]
  },
  {
   "cell_type": "code",
   "execution_count": 15,
   "id": "patent-dayton",
   "metadata": {},
   "outputs": [
    {
     "name": "stdout",
     "output_type": "stream",
     "text": [
      "Trevor Noah\n"
     ]
    }
   ],
   "source": [
    "# QUESTION 2: Who hosts the Daily Show (talk)?\n",
    "print(shows['genre']['talk']['the_daily_show']['host'])"
   ]
  },
  {
   "cell_type": "code",
   "execution_count": 16,
   "id": "complimentary-drive",
   "metadata": {},
   "outputs": [
    {
     "name": "stdout",
     "output_type": "stream",
     "text": [
      "Gob Bluth\n"
     ]
    }
   ],
   "source": [
    "# QUESTION 3: Who does Will Arnett play in Arrested Development (comedy)\n",
    "print(shows['genre']['comedy']['arrested_development']['cast'][2]['character'])"
   ]
  },
  {
   "cell_type": "code",
   "execution_count": 17,
   "id": "after-flight",
   "metadata": {},
   "outputs": [
    {
     "name": "stdout",
     "output_type": "stream",
     "text": [
      "Tyrion Lannister\n"
     ]
    }
   ],
   "source": [
    "# QUESTION 4: Who does Peter Dinklage play in Game of Thrones (drama)?\n",
    "print(shows['genre']['drama']['game_of_thrones']['cast'][1]['character'])"
   ]
  },
  {
   "cell_type": "code",
   "execution_count": 18,
   "id": "egyptian-moral",
   "metadata": {},
   "outputs": [
    {
     "name": "stdout",
     "output_type": "stream",
     "text": [
      "Michael C. Hall Christine Cavanaugh\n"
     ]
    }
   ],
   "source": [
    "# QUESTION 5: Who plays Dexter in Dexter (drama) and who plays Dexter in Dexter's Lab (kids)?\n",
    "# HINT: You can print multiple items at once by using a comma like this: print(thing1, thing2)\n",
    "print(shows['genre']['drama']['dexter']['cast'][0]['actor'], shows['genre']['kids']['dexters_lab']['cast'][0]['actor'])"
   ]
  },
  {
   "cell_type": "code",
   "execution_count": 22,
   "id": "intended-volume",
   "metadata": {},
   "outputs": [
    {
     "name": "stdout",
     "output_type": "stream",
     "text": [
      "Michael Scott\n",
      "John Krasinsky\n",
      "Dwight Schrute\n",
      "Pam Beasley\n",
      "Kelly Kapoor\n"
     ]
    }
   ],
   "source": [
    "# QUESTION 6: Who are the main characters of the Office (comedy) (not the actors, but the actual \n",
    "# character names)?\n",
    "for character in shows['genre']['comedy']['the_office']['cast']:\n",
    "    print(character['character'])"
   ]
  },
  {
   "cell_type": "code",
   "execution_count": 23,
   "id": "sorted-component",
   "metadata": {},
   "outputs": [
    {
     "name": "stdout",
     "output_type": "stream",
     "text": [
      "Michael C. Hall\n",
      "Jennifer Carpenter\n",
      "David Zayas\n",
      "Desmond Harrington\n",
      "James Remar\n"
     ]
    }
   ],
   "source": [
    "# QUESTION 7: List the main cast of Dexter (drama) (the actors, not the characters)\n",
    "for character in shows['genre']['drama']['dexter']['cast']:\n",
    "    print(character['actor'])"
   ]
  },
  {
   "cell_type": "code",
   "execution_count": 24,
   "id": "rational-press",
   "metadata": {},
   "outputs": [
    {
     "name": "stdout",
     "output_type": "stream",
     "text": [
      "Simon Cowell\n",
      "Randy Jackson\n",
      "Paula Abdul\n"
     ]
    }
   ],
   "source": [
    "# QUESTION : List the American Idol Judges\n",
    "for judge in shows['genre']['reality']['american_idol']['judges']:\n",
    "    print(judge)"
   ]
  },
  {
   "cell_type": "code",
   "execution_count": 25,
   "id": "jewish-custom",
   "metadata": {},
   "outputs": [
    {
     "name": "stdout",
     "output_type": "stream",
     "text": [
      "Murr\n",
      "Joe\n",
      "Sal\n",
      "Q\n"
     ]
    }
   ],
   "source": [
    "# QUESTION 9: What are the show names of the Impractical Jokers (comedy)\n",
    "# Hint: You will need to use a loop for this one. You may not simply log the entire list, \n",
    "# but must log each name individually\n",
    "for character in shows['genre']['comedy']['impractical_jokers']['cast']:\n",
    "    print(character['showName'])"
   ]
  },
  {
   "cell_type": "markdown",
   "id": "downtown-spanish",
   "metadata": {},
   "source": [
    "## Loops"
   ]
  },
  {
   "cell_type": "code",
   "execution_count": 26,
   "id": "characteristic-legislature",
   "metadata": {},
   "outputs": [
    {
     "name": "stdout",
     "output_type": "stream",
     "text": [
      "All of the numbers in the list are:\n",
      "2\n",
      "65\n",
      "3\n",
      "7\n",
      "39\n",
      "22\n",
      "11\n",
      "94\n",
      "299\n",
      "9\n",
      "20\n",
      "21\n",
      "51\n",
      "37\n"
     ]
    }
   ],
   "source": [
    "# We've declared this list for you\n",
    "num_list = [2, 65, 3, 7, 39, 22, 11, 94, 299, 9, 20, 21, 51, 37]\n",
    "\n",
    "# Iterate through the provided `num_list` and print out every number in the list\n",
    "print(\"All of the numbers in the list are:\")\n",
    "for number in num_list:\n",
    "    print(number)"
   ]
  },
  {
   "cell_type": "code",
   "execution_count": 27,
   "id": "cognitive-robin",
   "metadata": {},
   "outputs": [
    {
     "name": "stdout",
     "output_type": "stream",
     "text": [
      "Numbers greater than 50:\n",
      "65\n",
      "94\n",
      "299\n",
      "51\n"
     ]
    }
   ],
   "source": [
    "# Iterate through the provided `num_list` and create an if statement to print every number greater than 50\n",
    "print(\"Numbers greater than 50:\")\n",
    "for number in num_list:\n",
    "    if number > 50:\n",
    "        print(number)"
   ]
  },
  {
   "cell_type": "code",
   "execution_count": 28,
   "id": "confidential-assembly",
   "metadata": {},
   "outputs": [
    {
     "name": "stdout",
     "output_type": "stream",
     "text": [
      "Index of first occurrence of the number 11:\n",
      "6\n"
     ]
    }
   ],
   "source": [
    "# Iterate through the provided `num_list` to print the index of the first occurrence of the number 11.\n",
    "print(\"Index of first occurrence of the number 11:\")\n",
    "index = 0\n",
    "for number in num_list:\n",
    "    if number == 11:\n",
    "        print(index)\n",
    "    index += 1"
   ]
  },
  {
   "cell_type": "code",
   "execution_count": 29,
   "id": "recovered-territory",
   "metadata": {},
   "outputs": [
    {
     "name": "stdout",
     "output_type": "stream",
     "text": [
      "Sum of all numbers:\n",
      "680\n"
     ]
    }
   ],
   "source": [
    "# Iterate through the provided `num_list` and print the sum of all the numbers.\n",
    "print(\"Sum of all numbers:\")\n",
    "sum = 0\n",
    "for number in num_list:\n",
    "    sum += number\n",
    "print(sum)"
   ]
  },
  {
   "cell_type": "code",
   "execution_count": 30,
   "id": "connected-catch",
   "metadata": {},
   "outputs": [
    {
     "name": "stdout",
     "output_type": "stream",
     "text": [
      "Number of times 'Apple' appears in the list:\n",
      "4\n"
     ]
    }
   ],
   "source": [
    "fruits = [\n",
    "  \"Apple\", \"Orange\", \"Banana\", \"Pomelo\", \"Apple\", \"Kiwi\", \"Peach\", \"Banana\", \"Grape\", \"Tomato\",\n",
    "  \"Kiwi\", \"Apple\", \"Watermelon\", \"Lemon\", \"Pomelo\", \"Apple\", \"Banana\", \"Peach\", \"Apricot\", \"Grape\"]\n",
    "\n",
    "# Iterate through the provided `fruits` list and print the number of times \"Apple\" appears in the list.\n",
    "print(\"Number of times 'Apple' appears in the list:\")\n",
    "count = 0\n",
    "for fruit in fruits:\n",
    "    if fruit == \"Apple\":\n",
    "        count += 1\n",
    "print(count)"
   ]
  },
  {
   "cell_type": "markdown",
   "id": "eligible-connectivity",
   "metadata": {},
   "source": [
    "## Functions (1)"
   ]
  },
  {
   "cell_type": "code",
   "execution_count": 31,
   "id": "personal-stuart",
   "metadata": {},
   "outputs": [
    {
     "name": "stdout",
     "output_type": "stream",
     "text": [
      "Functions are FUN!\n",
      "37\n"
     ]
    }
   ],
   "source": [
    "# Define a function `having_fun` that prints \"Functions are FUN!\".\n",
    "def having_fun():\n",
    "    print(\"Functions are FUN!\")\n",
    "\n",
    "# Define a function `thirty_seven` that prints the sum of 18 and 19.\n",
    "def thirty_seven():\n",
    "    sum = 18 + 19\n",
    "    print(sum)\n",
    "\n",
    "# Call the two functions you've defined so far.\n",
    "having_fun()\n",
    "thirty_seven()"
   ]
  },
  {
   "cell_type": "code",
   "execution_count": 32,
   "id": "sorted-wonder",
   "metadata": {},
   "outputs": [
    {
     "name": "stdout",
     "output_type": "stream",
     "text": [
      "Hello World!\n"
     ]
    }
   ],
   "source": [
    "# Define a function `hello` that takes in a string parameter and prints the parameter variable.\n",
    "def hello(string_param):\n",
    "    print(string_param)\n",
    "\n",
    "# Call your `hello` function.\n",
    "hello(\"Hello World!\")"
   ]
  },
  {
   "cell_type": "code",
   "execution_count": 33,
   "id": "imported-despite",
   "metadata": {},
   "outputs": [
    {
     "name": "stdout",
     "output_type": "stream",
     "text": [
      "Calculated Average: 50.0\n"
     ]
    }
   ],
   "source": [
    "# Define a function `average` that calculates the average between two parameters and returns the average.\n",
    "def average(num_1, num_2):\n",
    "    avg_calc = (num_1 + num_2) / 2\n",
    "    return avg_calc\n",
    "\n",
    "# Call the `average` function and assign to a variable `calculated_average`.\n",
    "# Print your `calculated_average`.\n",
    "calculated_average = average(90, 10)\n",
    "print(f\"Calculated Average: {calculated_average}\")"
   ]
  },
  {
   "cell_type": "markdown",
   "id": "written-mediterranean",
   "metadata": {},
   "source": [
    "## Functions (2)"
   ]
  },
  {
   "cell_type": "code",
   "execution_count": 35,
   "id": "preceding-lecture",
   "metadata": {},
   "outputs": [
    {
     "name": "stdout",
     "output_type": "stream",
     "text": [
      "hello arglebargle\n"
     ]
    }
   ],
   "source": [
    "# Define a function \"warble\" that takes in a string as an argument, \n",
    "# adds \" arglebargle\" to the end of it, and returns the result.\n",
    "def warble(string_param):\n",
    "    return(f\"{string_param} arglebargle\")\n",
    "\n",
    "# Print the result of calling your \"warble\" function with the argument \"hello\".\n",
    "print(warble(\"hello\"))"
   ]
  },
  {
   "cell_type": "code",
   "execution_count": 36,
   "id": "handy-alert",
   "metadata": {},
   "outputs": [
    {
     "name": "stdout",
     "output_type": "stream",
     "text": [
      "wibbly bibbly\n"
     ]
    }
   ],
   "source": [
    "# Define a function \"wibble\" that takes a string as an argument, prints the argument, \n",
    "# prepends \"wibbly \" to the argument, and returns the result\n",
    "def wibble(string_param):\n",
    "    return(f\"wibbly {string_param}\")\n",
    "\n",
    "# Print the result of calling your \"wibble\" function with the argument \"bibbly\"\n",
    "print(wibble(\"bibbly\"))"
   ]
  },
  {
   "cell_type": "code",
   "execution_count": 37,
   "id": "textile-official",
   "metadata": {},
   "outputs": [
    {
     "name": "stdout",
     "output_type": "stream",
     "text": [
      "dance!\n",
      "Andrew\n",
      "wibbly Andrew arglebargle\n"
     ]
    }
   ],
   "source": [
    "# Define a function \"print_sum\" that takes in two numbers as arguments and prints the sum of \n",
    "# those two numbers.\n",
    "def print_sum(num_1, num_2):\n",
    "    sum = num_1 + num_2\n",
    "    print(sum)\n",
    "\n",
    "# Define a function \"return_sum\" that takes in two numbers as arguments and returns the sum of \n",
    "# those two numbers\n",
    "def return_sum(num_1, num_2):\n",
    "    sum = num_1 + num_2\n",
    "    return sum\n",
    "\n",
    "# Define a function \"triple_sum\" that takes in 3 arguments and returns the sum of those 3 numbers.\n",
    "def triple_sum(num_1, num_2, num_3):\n",
    "    sum = num_1 + num_2 + num_3\n",
    "    return sum\n",
    "\n",
    "\"\"\"\n",
    "Define a function \"dance_party\" that takes in a string as an argument, \n",
    "then prints \"dance!\", then updates the string by calling \"wibble\" function \n",
    "with that argument, followed by \"warble\" function with that argument, \n",
    "then returns the updated stringdef dance_party(string_param):\n",
    "\n",
    "\"\"\" \n",
    "def dance_party(string_param):\n",
    "    print(\"dance!\")\n",
    "    print(string_param)\n",
    "    print(wibble(warble(string_param)))\n",
    "\n",
    "# Print the result of calling your \"dance_party\" function with your name as the argument\n",
    "dance_party(\"Andrew\")"
   ]
  },
  {
   "cell_type": "markdown",
   "id": "silver-harmony",
   "metadata": {},
   "source": [
    "## CSV"
   ]
  },
  {
   "cell_type": "code",
   "execution_count": 44,
   "id": "forced-netscape",
   "metadata": {},
   "outputs": [
    {
     "name": "stdout",
     "output_type": "stream",
     "text": [
      "Pokemon No. 1 - bulbasaur\n",
      "Pokemon No. 2 - ivysaur\n",
      "Pokemon No. 3 - venusaur\n",
      "Pokemon No. 4 - charmander\n",
      "Pokemon No. 5 - charmeleon\n",
      "Pokemon No. 6 - charizard\n",
      "Pokemon No. 7 - squirtle\n",
      "Pokemon No. 8 - wartortle\n",
      "Pokemon No. 9 - blastoise\n",
      "Pokemon No. 10 - caterpie\n",
      "Pokemon No. 11 - metapod\n",
      "Pokemon No. 12 - butterfree\n",
      "Pokemon No. 13 - weedle\n",
      "Pokemon No. 14 - kakuna\n",
      "Pokemon No. 15 - beedrill\n",
      "Pokemon No. 16 - pidgey\n",
      "Pokemon No. 17 - pidgeotto\n",
      "Pokemon No. 18 - pidgeot\n",
      "Pokemon No. 19 - rattata\n",
      "Pokemon No. 20 - raticate\n",
      "Pokemon No. 21 - spearow\n",
      "Pokemon No. 22 - fearow\n",
      "Pokemon No. 23 - ekans\n",
      "Pokemon No. 24 - arbok\n",
      "Pokemon No. 25 - pikachu\n",
      "Pokemon No. 26 - raichu\n",
      "Pokemon No. 27 - sandshrew\n",
      "Pokemon No. 28 - sandslash\n",
      "Pokemon No. 29 - nidoran-f\n",
      "Pokemon No. 30 - nidorina\n",
      "Pokemon No. 31 - nidoqueen\n",
      "Pokemon No. 32 - nidoran-m\n",
      "Pokemon No. 33 - nidorino\n",
      "Pokemon No. 34 - nidoking\n",
      "Pokemon No. 35 - clefairy\n",
      "Pokemon No. 36 - clefable\n",
      "Pokemon No. 37 - vulpix\n",
      "Pokemon No. 38 - ninetales\n",
      "Pokemon No. 39 - jigglypuff\n",
      "Pokemon No. 40 - wigglytuff\n",
      "Pokemon No. 41 - zubat\n",
      "Pokemon No. 42 - golbat\n",
      "Pokemon No. 43 - oddish\n",
      "Pokemon No. 44 - gloom\n",
      "Pokemon No. 45 - vileplume\n",
      "Pokemon No. 46 - paras\n",
      "Pokemon No. 47 - parasect\n",
      "Pokemon No. 48 - venonat\n",
      "Pokemon No. 49 - venomoth\n",
      "Pokemon No. 50 - diglett\n",
      "Pokemon No. 51 - dugtrio\n",
      "Pokemon No. 52 - meowth\n",
      "Pokemon No. 53 - persian\n",
      "Pokemon No. 54 - psyduck\n",
      "Pokemon No. 55 - golduck\n",
      "Pokemon No. 56 - mankey\n",
      "Pokemon No. 57 - primeape\n",
      "Pokemon No. 58 - growlithe\n",
      "Pokemon No. 59 - arcanine\n",
      "Pokemon No. 60 - poliwag\n",
      "Pokemon No. 61 - poliwhirl\n",
      "Pokemon No. 62 - poliwrath\n",
      "Pokemon No. 63 - abra\n",
      "Pokemon No. 64 - kadabra\n",
      "Pokemon No. 65 - alakazam\n",
      "Pokemon No. 66 - machop\n",
      "Pokemon No. 67 - machoke\n",
      "Pokemon No. 68 - machamp\n",
      "Pokemon No. 69 - bellsprout\n",
      "Pokemon No. 70 - weepinbell\n",
      "Pokemon No. 71 - victreebel\n",
      "Pokemon No. 72 - tentacool\n",
      "Pokemon No. 73 - tentacruel\n",
      "Pokemon No. 74 - geodude\n",
      "Pokemon No. 75 - graveler\n",
      "Pokemon No. 76 - golem\n",
      "Pokemon No. 77 - ponyta\n",
      "Pokemon No. 78 - rapidash\n",
      "Pokemon No. 79 - slowpoke\n",
      "Pokemon No. 80 - slowbro\n",
      "Pokemon No. 81 - magnemite\n",
      "Pokemon No. 82 - magneton\n",
      "Pokemon No. 83 - farfetchd\n",
      "Pokemon No. 84 - doduo\n",
      "Pokemon No. 85 - dodrio\n",
      "Pokemon No. 86 - seel\n",
      "Pokemon No. 87 - dewgong\n",
      "Pokemon No. 88 - grimer\n",
      "Pokemon No. 89 - muk\n",
      "Pokemon No. 90 - shellder\n",
      "Pokemon No. 91 - cloyster\n",
      "Pokemon No. 92 - gastly\n",
      "Pokemon No. 93 - haunter\n",
      "Pokemon No. 94 - gengar\n",
      "Pokemon No. 95 - onix\n",
      "Pokemon No. 96 - drowzee\n",
      "Pokemon No. 97 - hypno\n",
      "Pokemon No. 98 - krabby\n",
      "Pokemon No. 99 - kingler\n",
      "Pokemon No. 100 - voltorb\n",
      "Pokemon No. 101 - electrode\n",
      "Pokemon No. 102 - exeggcute\n",
      "Pokemon No. 103 - exeggutor\n",
      "Pokemon No. 104 - cubone\n",
      "Pokemon No. 105 - marowak\n",
      "Pokemon No. 106 - hitmonlee\n",
      "Pokemon No. 107 - hitmonchan\n",
      "Pokemon No. 108 - lickitung\n",
      "Pokemon No. 109 - koffing\n",
      "Pokemon No. 110 - weezing\n",
      "Pokemon No. 111 - rhyhorn\n",
      "Pokemon No. 112 - rhydon\n",
      "Pokemon No. 113 - chansey\n",
      "Pokemon No. 114 - tangela\n",
      "Pokemon No. 115 - kangaskhan\n",
      "Pokemon No. 116 - horsea\n",
      "Pokemon No. 117 - seadra\n",
      "Pokemon No. 118 - goldeen\n",
      "Pokemon No. 119 - seaking\n",
      "Pokemon No. 120 - staryu\n",
      "Pokemon No. 121 - starmie\n",
      "Pokemon No. 122 - mr-mime\n",
      "Pokemon No. 123 - scyther\n",
      "Pokemon No. 124 - jynx\n",
      "Pokemon No. 125 - electabuzz\n",
      "Pokemon No. 126 - magmar\n",
      "Pokemon No. 127 - pinsir\n",
      "Pokemon No. 128 - tauros\n",
      "Pokemon No. 129 - magikarp\n",
      "Pokemon No. 130 - gyarados\n",
      "Pokemon No. 131 - lapras\n",
      "Pokemon No. 132 - ditto\n",
      "Pokemon No. 133 - eevee\n",
      "Pokemon No. 134 - vaporeon\n",
      "Pokemon No. 135 - jolteon\n",
      "Pokemon No. 136 - flareon\n",
      "Pokemon No. 137 - porygon\n",
      "Pokemon No. 138 - omanyte\n",
      "Pokemon No. 139 - omastar\n",
      "Pokemon No. 140 - kabuto\n",
      "Pokemon No. 141 - kabutops\n",
      "Pokemon No. 142 - aerodactyl\n",
      "Pokemon No. 143 - snorlax\n",
      "Pokemon No. 144 - articuno\n",
      "Pokemon No. 145 - zapdos\n",
      "Pokemon No. 146 - moltres\n",
      "Pokemon No. 147 - dratini\n",
      "Pokemon No. 148 - dragonair\n",
      "Pokemon No. 149 - dragonite\n",
      "Pokemon No. 150 - mewtwo\n",
      "Pokemon No. 151 - mew\n",
      "Pokemon No. 152 - chikorita\n",
      "Pokemon No. 153 - bayleef\n",
      "Pokemon No. 154 - meganium\n",
      "Pokemon No. 155 - cyndaquil\n",
      "Pokemon No. 156 - quilava\n",
      "Pokemon No. 157 - typhlosion\n",
      "Pokemon No. 158 - totodile\n",
      "Pokemon No. 159 - croconaw\n",
      "Pokemon No. 160 - feraligatr\n",
      "Pokemon No. 161 - sentret\n",
      "Pokemon No. 162 - furret\n",
      "Pokemon No. 163 - hoothoot\n",
      "Pokemon No. 164 - noctowl\n",
      "Pokemon No. 165 - ledyba\n",
      "Pokemon No. 166 - ledian\n",
      "Pokemon No. 167 - spinarak\n",
      "Pokemon No. 168 - ariados\n",
      "Pokemon No. 169 - crobat\n",
      "Pokemon No. 170 - chinchou\n",
      "Pokemon No. 171 - lanturn\n",
      "Pokemon No. 172 - pichu\n",
      "Pokemon No. 173 - cleffa\n",
      "Pokemon No. 174 - igglybuff\n",
      "Pokemon No. 175 - togepi\n",
      "Pokemon No. 176 - togetic\n",
      "Pokemon No. 177 - natu\n",
      "Pokemon No. 178 - xatu\n",
      "Pokemon No. 179 - mareep\n",
      "Pokemon No. 180 - flaaffy\n",
      "Pokemon No. 181 - ampharos\n",
      "Pokemon No. 182 - bellossom\n",
      "Pokemon No. 183 - marill\n",
      "Pokemon No. 184 - azumarill\n",
      "Pokemon No. 185 - sudowoodo\n",
      "Pokemon No. 186 - politoed\n",
      "Pokemon No. 187 - hoppip\n",
      "Pokemon No. 188 - skiploom\n",
      "Pokemon No. 189 - jumpluff\n",
      "Pokemon No. 190 - aipom\n",
      "Pokemon No. 191 - sunkern\n",
      "Pokemon No. 192 - sunflora\n",
      "Pokemon No. 193 - yanma\n",
      "Pokemon No. 194 - wooper\n",
      "Pokemon No. 195 - quagsire\n",
      "Pokemon No. 196 - espeon\n",
      "Pokemon No. 197 - umbreon\n",
      "Pokemon No. 198 - murkrow\n",
      "Pokemon No. 199 - slowking\n",
      "Pokemon No. 200 - misdreavus\n",
      "Pokemon No. 201 - unown\n",
      "Pokemon No. 202 - wobbuffet\n",
      "Pokemon No. 203 - girafarig\n",
      "Pokemon No. 204 - pineco\n",
      "Pokemon No. 205 - forretress\n",
      "Pokemon No. 206 - dunsparce\n",
      "Pokemon No. 207 - gligar\n",
      "Pokemon No. 208 - steelix\n",
      "Pokemon No. 209 - snubbull\n",
      "Pokemon No. 210 - granbull\n",
      "Pokemon No. 211 - qwilfish\n",
      "Pokemon No. 212 - scizor\n",
      "Pokemon No. 213 - shuckle\n",
      "Pokemon No. 214 - heracross\n",
      "Pokemon No. 215 - sneasel\n",
      "Pokemon No. 216 - teddiursa\n",
      "Pokemon No. 217 - ursaring\n",
      "Pokemon No. 218 - slugma\n",
      "Pokemon No. 219 - magcargo\n",
      "Pokemon No. 220 - swinub\n",
      "Pokemon No. 221 - piloswine\n",
      "Pokemon No. 222 - corsola\n",
      "Pokemon No. 223 - remoraid\n",
      "Pokemon No. 224 - octillery\n",
      "Pokemon No. 225 - delibird\n",
      "Pokemon No. 226 - mantine\n",
      "Pokemon No. 227 - skarmory\n",
      "Pokemon No. 228 - houndour\n",
      "Pokemon No. 229 - houndoom\n",
      "Pokemon No. 230 - kingdra\n",
      "Pokemon No. 231 - phanpy\n",
      "Pokemon No. 232 - donphan\n",
      "Pokemon No. 233 - porygon2\n",
      "Pokemon No. 234 - stantler\n",
      "Pokemon No. 235 - smeargle\n",
      "Pokemon No. 236 - tyrogue\n",
      "Pokemon No. 237 - hitmontop\n",
      "Pokemon No. 238 - smoochum\n",
      "Pokemon No. 239 - elekid\n",
      "Pokemon No. 240 - magby\n",
      "Pokemon No. 241 - miltank\n",
      "Pokemon No. 242 - blissey\n",
      "Pokemon No. 243 - raikou\n",
      "Pokemon No. 244 - entei\n",
      "Pokemon No. 245 - suicune\n",
      "Pokemon No. 246 - larvitar\n",
      "Pokemon No. 247 - pupitar\n",
      "Pokemon No. 248 - tyranitar\n",
      "Pokemon No. 249 - lugia\n",
      "Pokemon No. 250 - ho-oh\n",
      "Pokemon No. 251 - celebi\n",
      "Pokemon No. 252 - treecko\n",
      "Pokemon No. 253 - grovyle\n",
      "Pokemon No. 254 - sceptile\n",
      "Pokemon No. 255 - torchic\n",
      "Pokemon No. 256 - combusken\n",
      "Pokemon No. 257 - blaziken\n",
      "Pokemon No. 258 - mudkip\n",
      "Pokemon No. 259 - marshtomp\n",
      "Pokemon No. 260 - swampert\n",
      "Pokemon No. 261 - poochyena\n",
      "Pokemon No. 262 - mightyena\n",
      "Pokemon No. 263 - zigzagoon\n",
      "Pokemon No. 264 - linoone\n",
      "Pokemon No. 265 - wurmple\n",
      "Pokemon No. 266 - silcoon\n",
      "Pokemon No. 267 - beautifly\n",
      "Pokemon No. 268 - cascoon\n",
      "Pokemon No. 269 - dustox\n",
      "Pokemon No. 270 - lotad\n",
      "Pokemon No. 271 - lombre\n",
      "Pokemon No. 272 - ludicolo\n",
      "Pokemon No. 273 - seedot\n",
      "Pokemon No. 274 - nuzleaf\n",
      "Pokemon No. 275 - shiftry\n",
      "Pokemon No. 276 - taillow\n",
      "Pokemon No. 277 - swellow\n",
      "Pokemon No. 278 - wingull\n",
      "Pokemon No. 279 - pelipper\n",
      "Pokemon No. 280 - ralts\n",
      "Pokemon No. 281 - kirlia\n",
      "Pokemon No. 282 - gardevoir\n",
      "Pokemon No. 283 - surskit\n",
      "Pokemon No. 284 - masquerain\n",
      "Pokemon No. 285 - shroomish\n",
      "Pokemon No. 286 - breloom\n",
      "Pokemon No. 287 - slakoth\n",
      "Pokemon No. 288 - vigoroth\n",
      "Pokemon No. 289 - slaking\n",
      "Pokemon No. 290 - nincada\n",
      "Pokemon No. 291 - ninjask\n",
      "Pokemon No. 292 - shedinja\n",
      "Pokemon No. 293 - whismur\n",
      "Pokemon No. 294 - loudred\n",
      "Pokemon No. 295 - exploud\n",
      "Pokemon No. 296 - makuhita\n",
      "Pokemon No. 297 - hariyama\n",
      "Pokemon No. 298 - azurill\n",
      "Pokemon No. 299 - nosepass\n",
      "Pokemon No. 300 - skitty\n",
      "Pokemon No. 301 - delcatty\n",
      "Pokemon No. 302 - sableye\n",
      "Pokemon No. 303 - mawile\n",
      "Pokemon No. 304 - aron\n",
      "Pokemon No. 305 - lairon\n",
      "Pokemon No. 306 - aggron\n",
      "Pokemon No. 307 - meditite\n",
      "Pokemon No. 308 - medicham\n",
      "Pokemon No. 309 - electrike\n",
      "Pokemon No. 310 - manectric\n",
      "Pokemon No. 311 - plusle\n",
      "Pokemon No. 312 - minun\n",
      "Pokemon No. 313 - volbeat\n",
      "Pokemon No. 314 - illumise\n",
      "Pokemon No. 315 - roselia\n",
      "Pokemon No. 316 - gulpin\n",
      "Pokemon No. 317 - swalot\n",
      "Pokemon No. 318 - carvanha\n",
      "Pokemon No. 319 - sharpedo\n",
      "Pokemon No. 320 - wailmer\n",
      "Pokemon No. 321 - wailord\n",
      "Pokemon No. 322 - numel\n",
      "Pokemon No. 323 - camerupt\n",
      "Pokemon No. 324 - torkoal\n",
      "Pokemon No. 325 - spoink\n",
      "Pokemon No. 326 - grumpig\n",
      "Pokemon No. 327 - spinda\n",
      "Pokemon No. 328 - trapinch\n",
      "Pokemon No. 329 - vibrava\n",
      "Pokemon No. 330 - flygon\n",
      "Pokemon No. 331 - cacnea\n",
      "Pokemon No. 332 - cacturne\n",
      "Pokemon No. 333 - swablu\n",
      "Pokemon No. 334 - altaria\n",
      "Pokemon No. 335 - zangoose\n",
      "Pokemon No. 336 - seviper\n",
      "Pokemon No. 337 - lunatone\n",
      "Pokemon No. 338 - solrock\n",
      "Pokemon No. 339 - barboach\n",
      "Pokemon No. 340 - whiscash\n",
      "Pokemon No. 341 - corphish\n",
      "Pokemon No. 342 - crawdaunt\n",
      "Pokemon No. 343 - baltoy\n",
      "Pokemon No. 344 - claydol\n",
      "Pokemon No. 345 - lileep\n",
      "Pokemon No. 346 - cradily\n",
      "Pokemon No. 347 - anorith\n",
      "Pokemon No. 348 - armaldo\n",
      "Pokemon No. 349 - feebas\n",
      "Pokemon No. 350 - milotic\n",
      "Pokemon No. 351 - castform\n",
      "Pokemon No. 352 - kecleon\n",
      "Pokemon No. 353 - shuppet\n",
      "Pokemon No. 354 - banette\n",
      "Pokemon No. 355 - duskull\n",
      "Pokemon No. 356 - dusclops\n",
      "Pokemon No. 357 - tropius\n",
      "Pokemon No. 358 - chimecho\n",
      "Pokemon No. 359 - absol\n",
      "Pokemon No. 360 - wynaut\n",
      "Pokemon No. 361 - snorunt\n",
      "Pokemon No. 362 - glalie\n",
      "Pokemon No. 363 - spheal\n",
      "Pokemon No. 364 - sealeo\n",
      "Pokemon No. 365 - walrein\n",
      "Pokemon No. 366 - clamperl\n",
      "Pokemon No. 367 - huntail\n",
      "Pokemon No. 368 - gorebyss\n",
      "Pokemon No. 369 - relicanth\n",
      "Pokemon No. 370 - luvdisc\n",
      "Pokemon No. 371 - bagon\n",
      "Pokemon No. 372 - shelgon\n",
      "Pokemon No. 373 - salamence\n",
      "Pokemon No. 374 - beldum\n",
      "Pokemon No. 375 - metang\n",
      "Pokemon No. 376 - metagross\n",
      "Pokemon No. 377 - regirock\n",
      "Pokemon No. 378 - regice\n",
      "Pokemon No. 379 - registeel\n",
      "Pokemon No. 380 - latias\n",
      "Pokemon No. 381 - latios\n",
      "Pokemon No. 382 - kyogre\n",
      "Pokemon No. 383 - groudon\n",
      "Pokemon No. 384 - rayquaza\n",
      "Pokemon No. 385 - jirachi\n",
      "Pokemon No. 386 - deoxys-normal\n",
      "Pokemon No. 387 - turtwig\n",
      "Pokemon No. 388 - grotle\n",
      "Pokemon No. 389 - torterra\n",
      "Pokemon No. 390 - chimchar\n",
      "Pokemon No. 391 - monferno\n",
      "Pokemon No. 392 - infernape\n",
      "Pokemon No. 393 - piplup\n",
      "Pokemon No. 394 - prinplup\n",
      "Pokemon No. 395 - empoleon\n",
      "Pokemon No. 396 - starly\n",
      "Pokemon No. 397 - staravia\n",
      "Pokemon No. 398 - staraptor\n",
      "Pokemon No. 399 - bidoof\n",
      "Pokemon No. 400 - bibarel\n",
      "Pokemon No. 401 - kricketot\n",
      "Pokemon No. 402 - kricketune\n",
      "Pokemon No. 403 - shinx\n",
      "Pokemon No. 404 - luxio\n",
      "Pokemon No. 405 - luxray\n",
      "Pokemon No. 406 - budew\n",
      "Pokemon No. 407 - roserade\n",
      "Pokemon No. 408 - cranidos\n",
      "Pokemon No. 409 - rampardos\n",
      "Pokemon No. 410 - shieldon\n",
      "Pokemon No. 411 - bastiodon\n",
      "Pokemon No. 412 - burmy\n",
      "Pokemon No. 413 - wormadam-plant\n",
      "Pokemon No. 414 - mothim\n",
      "Pokemon No. 415 - combee\n",
      "Pokemon No. 416 - vespiquen\n",
      "Pokemon No. 417 - pachirisu\n",
      "Pokemon No. 418 - buizel\n",
      "Pokemon No. 419 - floatzel\n",
      "Pokemon No. 420 - cherubi\n",
      "Pokemon No. 421 - cherrim\n",
      "Pokemon No. 422 - shellos\n",
      "Pokemon No. 423 - gastrodon\n",
      "Pokemon No. 424 - ambipom\n",
      "Pokemon No. 425 - drifloon\n",
      "Pokemon No. 426 - drifblim\n",
      "Pokemon No. 427 - buneary\n",
      "Pokemon No. 428 - lopunny\n",
      "Pokemon No. 429 - mismagius\n",
      "Pokemon No. 430 - honchkrow\n",
      "Pokemon No. 431 - glameow\n",
      "Pokemon No. 432 - purugly\n",
      "Pokemon No. 433 - chingling\n",
      "Pokemon No. 434 - stunky\n",
      "Pokemon No. 435 - skuntank\n",
      "Pokemon No. 436 - bronzor\n",
      "Pokemon No. 437 - bronzong\n",
      "Pokemon No. 438 - bonsly\n",
      "Pokemon No. 439 - mime-jr\n",
      "Pokemon No. 440 - happiny\n",
      "Pokemon No. 441 - chatot\n",
      "Pokemon No. 442 - spiritomb\n",
      "Pokemon No. 443 - gible\n",
      "Pokemon No. 444 - gabite\n",
      "Pokemon No. 445 - garchomp\n",
      "Pokemon No. 446 - munchlax\n",
      "Pokemon No. 447 - riolu\n",
      "Pokemon No. 448 - lucario\n",
      "Pokemon No. 449 - hippopotas\n",
      "Pokemon No. 450 - hippowdon\n",
      "Pokemon No. 451 - skorupi\n",
      "Pokemon No. 452 - drapion\n",
      "Pokemon No. 453 - croagunk\n",
      "Pokemon No. 454 - toxicroak\n",
      "Pokemon No. 455 - carnivine\n",
      "Pokemon No. 456 - finneon\n",
      "Pokemon No. 457 - lumineon\n",
      "Pokemon No. 458 - mantyke\n",
      "Pokemon No. 459 - snover\n",
      "Pokemon No. 460 - abomasnow\n",
      "Pokemon No. 461 - weavile\n",
      "Pokemon No. 462 - magnezone\n",
      "Pokemon No. 463 - lickilicky\n",
      "Pokemon No. 464 - rhyperior\n",
      "Pokemon No. 465 - tangrowth\n",
      "Pokemon No. 466 - electivire\n",
      "Pokemon No. 467 - magmortar\n",
      "Pokemon No. 468 - togekiss\n",
      "Pokemon No. 469 - yanmega\n",
      "Pokemon No. 470 - leafeon\n",
      "Pokemon No. 471 - glaceon\n",
      "Pokemon No. 472 - gliscor\n",
      "Pokemon No. 473 - mamoswine\n",
      "Pokemon No. 474 - porygon-z\n",
      "Pokemon No. 475 - gallade\n",
      "Pokemon No. 476 - probopass\n",
      "Pokemon No. 477 - dusknoir\n",
      "Pokemon No. 478 - froslass\n",
      "Pokemon No. 479 - rotom\n",
      "Pokemon No. 480 - uxie\n",
      "Pokemon No. 481 - mesprit\n",
      "Pokemon No. 482 - azelf\n",
      "Pokemon No. 483 - dialga\n",
      "Pokemon No. 484 - palkia\n",
      "Pokemon No. 485 - heatran\n",
      "Pokemon No. 486 - regigigas\n",
      "Pokemon No. 487 - giratina-altered\n",
      "Pokemon No. 488 - cresselia\n",
      "Pokemon No. 489 - phione\n",
      "Pokemon No. 490 - manaphy\n",
      "Pokemon No. 491 - darkrai\n",
      "Pokemon No. 492 - shaymin-land\n",
      "Pokemon No. 493 - arceus\n",
      "Pokemon No. 494 - victini\n",
      "Pokemon No. 495 - snivy\n",
      "Pokemon No. 496 - servine\n",
      "Pokemon No. 497 - serperior\n",
      "Pokemon No. 498 - tepig\n",
      "Pokemon No. 499 - pignite\n",
      "Pokemon No. 500 - emboar\n",
      "Pokemon No. 501 - oshawott\n",
      "Pokemon No. 502 - dewott\n",
      "Pokemon No. 503 - samurott\n",
      "Pokemon No. 504 - patrat\n",
      "Pokemon No. 505 - watchog\n",
      "Pokemon No. 506 - lillipup\n",
      "Pokemon No. 507 - herdier\n",
      "Pokemon No. 508 - stoutland\n",
      "Pokemon No. 509 - purrloin\n",
      "Pokemon No. 510 - liepard\n",
      "Pokemon No. 511 - pansage\n",
      "Pokemon No. 512 - simisage\n",
      "Pokemon No. 513 - pansear\n",
      "Pokemon No. 514 - simisear\n",
      "Pokemon No. 515 - panpour\n",
      "Pokemon No. 516 - simipour\n",
      "Pokemon No. 517 - munna\n",
      "Pokemon No. 518 - musharna\n",
      "Pokemon No. 519 - pidove\n",
      "Pokemon No. 520 - tranquill\n",
      "Pokemon No. 521 - unfezant\n",
      "Pokemon No. 522 - blitzle\n",
      "Pokemon No. 523 - zebstrika\n",
      "Pokemon No. 524 - roggenrola\n",
      "Pokemon No. 525 - boldore\n",
      "Pokemon No. 526 - gigalith\n",
      "Pokemon No. 527 - woobat\n",
      "Pokemon No. 528 - swoobat\n",
      "Pokemon No. 529 - drilbur\n",
      "Pokemon No. 530 - excadrill\n",
      "Pokemon No. 531 - audino\n",
      "Pokemon No. 532 - timburr\n",
      "Pokemon No. 533 - gurdurr\n",
      "Pokemon No. 534 - conkeldurr\n",
      "Pokemon No. 535 - tympole\n",
      "Pokemon No. 536 - palpitoad\n",
      "Pokemon No. 537 - seismitoad\n",
      "Pokemon No. 538 - throh\n",
      "Pokemon No. 539 - sawk\n",
      "Pokemon No. 540 - sewaddle\n",
      "Pokemon No. 541 - swadloon\n",
      "Pokemon No. 542 - leavanny\n",
      "Pokemon No. 543 - venipede\n",
      "Pokemon No. 544 - whirlipede\n",
      "Pokemon No. 545 - scolipede\n",
      "Pokemon No. 546 - cottonee\n",
      "Pokemon No. 547 - whimsicott\n",
      "Pokemon No. 548 - petilil\n",
      "Pokemon No. 549 - lilligant\n",
      "Pokemon No. 550 - basculin-red-striped\n",
      "Pokemon No. 551 - sandile\n",
      "Pokemon No. 552 - krokorok\n",
      "Pokemon No. 553 - krookodile\n",
      "Pokemon No. 554 - darumaka\n",
      "Pokemon No. 555 - darmanitan-standard\n",
      "Pokemon No. 556 - maractus\n",
      "Pokemon No. 557 - dwebble\n",
      "Pokemon No. 558 - crustle\n",
      "Pokemon No. 559 - scraggy\n",
      "Pokemon No. 560 - scrafty\n",
      "Pokemon No. 561 - sigilyph\n",
      "Pokemon No. 562 - yamask\n",
      "Pokemon No. 563 - cofagrigus\n",
      "Pokemon No. 564 - tirtouga\n",
      "Pokemon No. 565 - carracosta\n",
      "Pokemon No. 566 - archen\n",
      "Pokemon No. 567 - archeops\n",
      "Pokemon No. 568 - trubbish\n",
      "Pokemon No. 569 - garbodor\n",
      "Pokemon No. 570 - zorua\n",
      "Pokemon No. 571 - zoroark\n",
      "Pokemon No. 572 - minccino\n",
      "Pokemon No. 573 - cinccino\n",
      "Pokemon No. 574 - gothita\n",
      "Pokemon No. 575 - gothorita\n",
      "Pokemon No. 576 - gothitelle\n",
      "Pokemon No. 577 - solosis\n",
      "Pokemon No. 578 - duosion\n",
      "Pokemon No. 579 - reuniclus\n",
      "Pokemon No. 580 - ducklett\n",
      "Pokemon No. 581 - swanna\n",
      "Pokemon No. 582 - vanillite\n",
      "Pokemon No. 583 - vanillish\n",
      "Pokemon No. 584 - vanilluxe\n",
      "Pokemon No. 585 - deerling\n",
      "Pokemon No. 586 - sawsbuck\n",
      "Pokemon No. 587 - emolga\n",
      "Pokemon No. 588 - karrablast\n",
      "Pokemon No. 589 - escavalier\n",
      "Pokemon No. 590 - foongus\n",
      "Pokemon No. 591 - amoonguss\n",
      "Pokemon No. 592 - frillish\n",
      "Pokemon No. 593 - jellicent\n",
      "Pokemon No. 594 - alomomola\n",
      "Pokemon No. 595 - joltik\n",
      "Pokemon No. 596 - galvantula\n",
      "Pokemon No. 597 - ferroseed\n",
      "Pokemon No. 598 - ferrothorn\n",
      "Pokemon No. 599 - klink\n",
      "Pokemon No. 600 - klang\n",
      "Pokemon No. 601 - klinklang\n",
      "Pokemon No. 602 - tynamo\n",
      "Pokemon No. 603 - eelektrik\n",
      "Pokemon No. 604 - eelektross\n",
      "Pokemon No. 605 - elgyem\n",
      "Pokemon No. 606 - beheeyem\n",
      "Pokemon No. 607 - litwick\n",
      "Pokemon No. 608 - lampent\n",
      "Pokemon No. 609 - chandelure\n",
      "Pokemon No. 610 - axew\n",
      "Pokemon No. 611 - fraxure\n",
      "Pokemon No. 612 - haxorus\n",
      "Pokemon No. 613 - cubchoo\n",
      "Pokemon No. 614 - beartic\n",
      "Pokemon No. 615 - cryogonal\n",
      "Pokemon No. 616 - shelmet\n",
      "Pokemon No. 617 - accelgor\n",
      "Pokemon No. 618 - stunfisk\n",
      "Pokemon No. 619 - mienfoo\n",
      "Pokemon No. 620 - mienshao\n",
      "Pokemon No. 621 - druddigon\n",
      "Pokemon No. 622 - golett\n",
      "Pokemon No. 623 - golurk\n",
      "Pokemon No. 624 - pawniard\n",
      "Pokemon No. 625 - bisharp\n",
      "Pokemon No. 626 - bouffalant\n",
      "Pokemon No. 627 - rufflet\n",
      "Pokemon No. 628 - braviary\n",
      "Pokemon No. 629 - vullaby\n",
      "Pokemon No. 630 - mandibuzz\n",
      "Pokemon No. 631 - heatmor\n",
      "Pokemon No. 632 - durant\n",
      "Pokemon No. 633 - deino\n",
      "Pokemon No. 634 - zweilous\n",
      "Pokemon No. 635 - hydreigon\n",
      "Pokemon No. 636 - larvesta\n",
      "Pokemon No. 637 - volcarona\n",
      "Pokemon No. 638 - cobalion\n",
      "Pokemon No. 639 - terrakion\n",
      "Pokemon No. 640 - virizion\n",
      "Pokemon No. 641 - tornadus-incarnate\n",
      "Pokemon No. 642 - thundurus-incarnate\n",
      "Pokemon No. 643 - reshiram\n",
      "Pokemon No. 644 - zekrom\n",
      "Pokemon No. 645 - landorus-incarnate\n",
      "Pokemon No. 646 - kyurem\n",
      "Pokemon No. 647 - keldeo-ordinary\n",
      "Pokemon No. 648 - meloetta-aria\n",
      "Pokemon No. 649 - genesect\n",
      "Pokemon No. 650 - chespin\n",
      "Pokemon No. 651 - quilladin\n",
      "Pokemon No. 652 - chesnaught\n",
      "Pokemon No. 653 - fennekin\n",
      "Pokemon No. 654 - braixen\n",
      "Pokemon No. 655 - delphox\n",
      "Pokemon No. 656 - froakie\n",
      "Pokemon No. 657 - frogadier\n",
      "Pokemon No. 658 - greninja\n",
      "Pokemon No. 659 - bunnelby\n",
      "Pokemon No. 660 - diggersby\n",
      "Pokemon No. 661 - fletchling\n",
      "Pokemon No. 662 - fletchinder\n",
      "Pokemon No. 663 - talonflame\n",
      "Pokemon No. 664 - scatterbug\n",
      "Pokemon No. 665 - spewpa\n",
      "Pokemon No. 666 - vivillon\n",
      "Pokemon No. 667 - litleo\n",
      "Pokemon No. 668 - pyroar\n",
      "Pokemon No. 669 - flabebe\n",
      "Pokemon No. 670 - floette\n",
      "Pokemon No. 671 - florges\n",
      "Pokemon No. 672 - skiddo\n",
      "Pokemon No. 673 - gogoat\n",
      "Pokemon No. 674 - pancham\n",
      "Pokemon No. 675 - pangoro\n",
      "Pokemon No. 676 - furfrou\n",
      "Pokemon No. 677 - espurr\n",
      "Pokemon No. 678 - meowstic-male\n",
      "Pokemon No. 679 - honedge\n",
      "Pokemon No. 680 - doublade\n",
      "Pokemon No. 681 - aegislash-shield\n",
      "Pokemon No. 682 - spritzee\n",
      "Pokemon No. 683 - aromatisse\n",
      "Pokemon No. 684 - swirlix\n",
      "Pokemon No. 685 - slurpuff\n",
      "Pokemon No. 686 - inkay\n",
      "Pokemon No. 687 - malamar\n",
      "Pokemon No. 688 - binacle\n",
      "Pokemon No. 689 - barbaracle\n",
      "Pokemon No. 690 - skrelp\n",
      "Pokemon No. 691 - dragalge\n",
      "Pokemon No. 692 - clauncher\n",
      "Pokemon No. 693 - clawitzer\n",
      "Pokemon No. 694 - helioptile\n",
      "Pokemon No. 695 - heliolisk\n",
      "Pokemon No. 696 - tyrunt\n",
      "Pokemon No. 697 - tyrantrum\n",
      "Pokemon No. 698 - amaura\n",
      "Pokemon No. 699 - aurorus\n",
      "Pokemon No. 700 - sylveon\n",
      "Pokemon No. 701 - hawlucha\n",
      "Pokemon No. 702 - dedenne\n",
      "Pokemon No. 703 - carbink\n",
      "Pokemon No. 704 - goomy\n",
      "Pokemon No. 705 - sliggoo\n",
      "Pokemon No. 706 - goodra\n",
      "Pokemon No. 707 - klefki\n",
      "Pokemon No. 708 - phantump\n",
      "Pokemon No. 709 - trevenant\n",
      "Pokemon No. 710 - pumpkaboo-average\n",
      "Pokemon No. 711 - gourgeist-average\n",
      "Pokemon No. 712 - bergmite\n",
      "Pokemon No. 713 - avalugg\n",
      "Pokemon No. 714 - noibat\n",
      "Pokemon No. 715 - noivern\n",
      "Pokemon No. 716 - xerneas\n",
      "Pokemon No. 717 - yveltal\n",
      "Pokemon No. 718 - zygarde\n",
      "Pokemon No. 719 - diancie\n",
      "Pokemon No. 720 - hoopa\n",
      "Pokemon No. 721 - volcanion\n",
      "Pokemon No. 722 - rowlet\n",
      "Pokemon No. 723 - dartrix\n",
      "Pokemon No. 724 - decidueye\n",
      "Pokemon No. 725 - litten\n",
      "Pokemon No. 726 - torracat\n",
      "Pokemon No. 727 - incineroar\n",
      "Pokemon No. 728 - popplio\n",
      "Pokemon No. 729 - brionne\n",
      "Pokemon No. 730 - primarina\n",
      "Pokemon No. 731 - pikipek\n",
      "Pokemon No. 732 - trumbeak\n",
      "Pokemon No. 733 - toucannon\n",
      "Pokemon No. 734 - yungoos\n",
      "Pokemon No. 735 - gumshoos\n",
      "Pokemon No. 736 - grubbin\n",
      "Pokemon No. 737 - charjabug\n",
      "Pokemon No. 738 - vikavolt\n",
      "Pokemon No. 739 - crabrawler\n",
      "Pokemon No. 740 - crabominable\n",
      "Pokemon No. 741 - oricorio-baile\n",
      "Pokemon No. 742 - cutiefly\n",
      "Pokemon No. 743 - ribombee\n",
      "Pokemon No. 744 - rockruff\n",
      "Pokemon No. 745 - lycanroc-midday\n",
      "Pokemon No. 746 - wishiwashi-solo\n",
      "Pokemon No. 747 - mareanie\n",
      "Pokemon No. 748 - toxapex\n",
      "Pokemon No. 749 - mudbray\n",
      "Pokemon No. 750 - mudsdale\n",
      "Pokemon No. 751 - dewpider\n",
      "Pokemon No. 752 - araquanid\n",
      "Pokemon No. 753 - fomantis\n",
      "Pokemon No. 754 - lurantis\n",
      "Pokemon No. 755 - morelull\n",
      "Pokemon No. 756 - shiinotic\n",
      "Pokemon No. 757 - salandit\n",
      "Pokemon No. 758 - salazzle\n",
      "Pokemon No. 759 - stufful\n",
      "Pokemon No. 760 - bewear\n",
      "Pokemon No. 761 - bounsweet\n",
      "Pokemon No. 762 - steenee\n",
      "Pokemon No. 763 - tsareena\n",
      "Pokemon No. 764 - comfey\n",
      "Pokemon No. 765 - oranguru\n",
      "Pokemon No. 766 - passimian\n",
      "Pokemon No. 767 - wimpod\n",
      "Pokemon No. 768 - golisopod\n",
      "Pokemon No. 769 - sandygast\n",
      "Pokemon No. 770 - palossand\n",
      "Pokemon No. 771 - pyukumuku\n",
      "Pokemon No. 772 - type-null\n",
      "Pokemon No. 773 - silvally\n",
      "Pokemon No. 774 - minior-red-meteor\n",
      "Pokemon No. 775 - komala\n",
      "Pokemon No. 776 - turtonator\n",
      "Pokemon No. 777 - togedemaru\n",
      "Pokemon No. 778 - mimikyu-disguised\n",
      "Pokemon No. 779 - bruxish\n",
      "Pokemon No. 780 - drampa\n",
      "Pokemon No. 781 - dhelmise\n",
      "Pokemon No. 782 - jangmo-o\n",
      "Pokemon No. 783 - hakamo-o\n",
      "Pokemon No. 784 - kommo-o\n",
      "Pokemon No. 785 - tapu-koko\n",
      "Pokemon No. 786 - tapu-lele\n",
      "Pokemon No. 787 - tapu-bulu\n",
      "Pokemon No. 788 - tapu-fini\n",
      "Pokemon No. 789 - cosmog\n",
      "Pokemon No. 790 - cosmoem\n",
      "Pokemon No. 791 - solgaleo\n",
      "Pokemon No. 792 - lunala\n",
      "Pokemon No. 793 - nihilego\n",
      "Pokemon No. 794 - buzzwole\n",
      "Pokemon No. 795 - pheromosa\n",
      "Pokemon No. 796 - xurkitree\n",
      "Pokemon No. 797 - celesteela\n",
      "Pokemon No. 798 - kartana\n",
      "Pokemon No. 799 - guzzlord\n",
      "Pokemon No. 800 - necrozma\n",
      "Pokemon No. 801 - magearna\n",
      "Pokemon No. 802 - marshadow\n",
      "Pokemon No. 803 - poipole\n",
      "Pokemon No. 804 - naganadel\n",
      "Pokemon No. 805 - stakataka\n",
      "Pokemon No. 806 - blacephalon\n",
      "Pokemon No. 807 - zeraora\n"
     ]
    }
   ],
   "source": [
    "# Import the necessary libraries for reading csv files\n",
    "import csv\n",
    "from pathlib import Path\n",
    "\n",
    "# Set the path for the csv file\n",
    "csvpath = Path(\"Activities/01_Stu_Python_Code_Drills/Solved/09-csv-01/Resources/pokemon.csv\")\n",
    "\n",
    "# Create new lists to store data for heaviest and tallest Pokemon\n",
    "heaviest = []\n",
    "tallest = []\n",
    "\n",
    "# Open the csv\n",
    "with open(csvpath) as csvfile:\n",
    "    csvreader = csv.reader(csvfile, delimiter=\",\")\n",
    "\n",
    "    # Iterate through the data and search for the number the user inputted. \n",
    "    # Remember to skip the header of the CSV.\n",
    "    csv_header = next(csvreader)\n",
    "\n",
    "    for row in csvreader:\n",
    "        # Print the name of the Pokemon(identifier) and Pokedex number(species id) at that number. \n",
    "        # For example, \"Pokemon No. 25 - Pikachu\".\n",
    "        print(f\"Pokemon No. {row[0]} - {row[1]}\")\n",
    "\n",
    "        # Iterate through the data and search for Pokemon whose weight is greater than 3000. \n",
    "        # Append only the Pokemon's name and weight to the 'heaviest' list.\n",
    "        if int(row[4]) > 3000:\n",
    "            heaviest.append(row[1])\n",
    "\n",
    "        # Iterate through the data and search for Pokemon whose height is greater than 50. Append only the Pokemon's name and height to the 'tallest' list.\n",
    "        if int(row[3]) > 50:\n",
    "            tallest.append(row[1])"
   ]
  },
  {
   "cell_type": "code",
   "execution_count": 45,
   "id": "later-benefit",
   "metadata": {},
   "outputs": [
    {
     "name": "stdout",
     "output_type": "stream",
     "text": [
      "Heaviest Pokemon: ['snorlax', 'steelix', 'aggron', 'wailord', 'metagross', 'kyogre', 'groudon', 'torterra', 'probopass', 'dialga', 'palkia', 'heatran', 'regigigas', 'giratina-altered', 'arceus', 'golurk', 'reshiram', 'zekrom', 'kyurem', 'avalugg', 'zygarde', 'mudsdale', 'cosmoem', 'buzzwole', 'celesteela', 'guzzlord', 'stakataka']\n",
      "Tallest Pokemon: ['onix', 'gyarados', 'steelix', 'lugia', 'wailord', 'milotic', 'rayquaza', 'dialga', 'yveltal', 'celesteela', 'guzzlord', 'stakataka']\n"
     ]
    }
   ],
   "source": [
    "# Print the list of heaviest and tallest pokemon\n",
    "print(f\"Heaviest Pokemon: {heaviest}\")\n",
    "print(f\"Tallest Pokemon: {tallest}\")"
   ]
  },
  {
   "cell_type": "markdown",
   "id": "affiliated-worry",
   "metadata": {},
   "source": [
    "# ATM Example"
   ]
  },
  {
   "cell_type": "code",
   "execution_count": 77,
   "id": "several-death",
   "metadata": {},
   "outputs": [
    {
     "name": "stdout",
     "output_type": "stream",
     "text": [
      "The account balance for PIN 123456 is 1436.19.\n"
     ]
    }
   ],
   "source": [
    "accounts = [\n",
    "    {\n",
    "    \"pin\": 123456,\n",
    "    \"balance\" : 1436.19},\n",
    "    {\n",
    "    \"pin\" : 246802,\n",
    "    \"balance\": 3571.87},\n",
    "    {\n",
    "    \"pin\": 135791,\n",
    "    \"balance\" : 543.79},\n",
    "    {\n",
    "    \"pin\" : 123987,\n",
    "    \"balance\": 25.89},\n",
    "    {\n",
    "    \"pin\" : 269731,\n",
    "    \"balance\": 3258.42}\n",
    "]\n",
    "\n",
    "# Create the `login` function for the ATM application.\n",
    "\n",
    "def login(pin):\n",
    "    for account in accounts:\n",
    "        if int(pin) == account[\"pin\"]:\n",
    "            print(f\"The account balance for PIN {account['pin']} is {account['balance']}.\")\n",
    "            return account[\"balance\"]\n",
    "\n",
    "\n",
    "account_balance = login(123456)\n",
    "# print(f\"{account_balance}\")"
   ]
  },
  {
   "cell_type": "code",
   "execution_count": 81,
   "id": "prompt-world",
   "metadata": {},
   "outputs": [
    {
     "name": "stdin",
     "output_type": "stream",
     "text": [
      "Introduce your PIN number 123\n"
     ]
    }
   ],
   "source": [
    "# Using input function\n",
    "pin = input(\"Introduce your PIN number\")\n",
    "login(pin)"
   ]
  },
  {
   "cell_type": "markdown",
   "id": "vanilla-eugene",
   "metadata": {},
   "source": [
    "# ATM Example Re-do"
   ]
  },
  {
   "cell_type": "code",
   "execution_count": 75,
   "id": "dominican-concord",
   "metadata": {},
   "outputs": [],
   "source": [
    "accounts = [\n",
    "    {\n",
    "    \"pin\": 123456,\n",
    "    \"balance\" : 1436.19},\n",
    "    {\n",
    "    \"pin\" : 246802,\n",
    "    \"balance\": 3571.87},\n",
    "    {\n",
    "    \"pin\": 135791,\n",
    "    \"balance\" : 543.79},\n",
    "    {\n",
    "    \"pin\" : 123987,\n",
    "    \"balance\": 25.89},\n",
    "    {\n",
    "    \"pin\" : 269731,\n",
    "    \"balance\": 3278.42}\n",
    "]\n",
    "\n",
    "# Create the `login` function for the ATM application.\n",
    "# The login function will take in a user PIN.\n",
    "# The function should validate the PIN against this list of `accounts`.\n",
    "# If the PIN is validated, the function should return the account's balance.\n",
    "\n",
    "def login(pin):\n",
    "    for account in accounts:\n",
    "        if int(pin) == account[\"pin\"]:\n",
    "            account_balance = account['balance']\n",
    "    return account_balance\n",
    "\n",
    "# Create the `check_balance` function.\n",
    "# The function should take in the account balance as a parameter.\n",
    "# The function should return the balance of the account.\n",
    "\n",
    "def check_balance(account_balance):\n",
    "    print(f\"The balance in your account is ${account_balance}.\")\n",
    "\n",
    "# Create the `make_deposit` function.\n",
    "# The function should take in the account balance and deposit amount as parameters.\n",
    "# The function should validate that the deposit amount is greater than 0.\n",
    "# The deposit balance should equal the account balance plus the deposit amount.\n",
    "# The function should return the balance after being adjusted for the deposit.\n",
    "\n",
    "def make_deposit(account_balance, deposit):\n",
    "    if deposit > 0:\n",
    "        deposit_balance = account_balance + deposit\n",
    "        print(f\"The new balance of your account is ${deposit_balance}.\")\n",
    "    else:\n",
    "        print(\"Your deposit amount must be positive.\")\n",
    "    return(deposit_balance)\n",
    "\n",
    "# Create the `make_withdrawal` function.\n",
    "# The function should take in the account balance and withdrawal amount as parameters.\n",
    "# The function should validate that the account balance is greater than the withdrawal.\n",
    "# The withdrawal balance should equal the account balance minus the withdrawal amount.\n",
    "# The function should return the account balance after being adjusted for the withdrawal.\n",
    "\n",
    "def make_withdrawal(account_balance, withdrawal):\n",
    "    if account_balance > withdrawal:\n",
    "        withdrawal_balance = account_balance - withdrawal\n",
    "        print(f\"The new balance of your account is ${withdrawal_balance}.\")\n",
    "    else:\n",
    "        print(\"You do not have the funds to make this withdrawal.\")\n",
    "    return(withdrawal_balance)"
   ]
  }
 ],
 "metadata": {
  "kernelspec": {
   "display_name": "Python 3",
   "language": "python",
   "name": "python3"
  },
  "language_info": {
   "codemirror_mode": {
    "name": "ipython",
    "version": 3
   },
   "file_extension": ".py",
   "mimetype": "text/x-python",
   "name": "python",
   "nbconvert_exporter": "python",
   "pygments_lexer": "ipython3",
   "version": "3.7.9"
  }
 },
 "nbformat": 4,
 "nbformat_minor": 5
}
